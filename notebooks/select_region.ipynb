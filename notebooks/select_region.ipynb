{
 "cells": [
  {
   "cell_type": "code",
   "execution_count": 1,
   "id": "3d5ef81e",
   "metadata": {},
   "outputs": [],
   "source": [
    "import os\n",
    "import glob\n",
    "import sys\n",
    "sys.path.append('..')\n",
    "import numpy as np \n",
    "import xarray as xr \n",
    "import matplotlib.pyplot as plt\n",
    "from datetime import datetime"
   ]
  },
  {
   "cell_type": "code",
   "execution_count": 2,
   "id": "8c77947a",
   "metadata": {},
   "outputs": [],
   "source": [
    "# Gulf Stream region\n",
    "region = 'GS' # 'GS', 'Med' or 'Cir'\n",
    "\n",
    "if region == 'GS':\n",
    "    lon_min = 309                                         # domain min longitude\n",
    "    lon_max = 314                                         # domain max longitude\n",
    "    lat_min = 30.                                         # domain min latitude\n",
    "    lat_max = 42.                                         # domain max latitude \n",
    "\n",
    "if region == 'Med':\n",
    "    lon_min = 1                                           # domain min longitude\n",
    "    lon_max = 20                                          # domain max longitude\n",
    "    lat_min = 30.                                         # domain min latitude\n",
    "    lat_max = 45.                                         # domain max latitude \n",
    "\n",
    "if region == 'Cir':\n",
    "    lon_min = 0                                            # domain min longitude\n",
    "    lon_max = 0                                            # domain max longitude\n",
    "    lat_min = 0                                            # domain min latitude\n",
    "    lat_max = 0                                            # domain max latitude "
   ]
  },
  {
   "cell_type": "markdown",
   "id": "f5858530",
   "metadata": {},
   "source": [
    "# Preping SWOT data"
   ]
  },
  {
   "cell_type": "code",
   "execution_count": 3,
   "id": "a0258b8e",
   "metadata": {},
   "outputs": [],
   "source": [
    "path_data = '../swot_data/'\n",
    "path_denoised = '../denoised_data/'  \n",
    " "
   ]
  },
  {
   "cell_type": "code",
   "execution_count": 4,
   "id": "d79cc554",
   "metadata": {},
   "outputs": [],
   "source": [
    "all_files = sorted(os.listdir(path_data))[1:]\n",
    "all_paths = [path_data + s for s in all_files]"
   ]
  },
  {
   "cell_type": "code",
   "execution_count": 5,
   "id": "bc0296d9",
   "metadata": {},
   "outputs": [],
   "source": [
    "def drop_num_nadir(xda):\n",
    "    xda = xda.drop_dims('num_nadir')\n",
    "    return xda"
   ]
  },
  {
   "cell_type": "code",
   "execution_count": 6,
   "id": "1a5efc7d",
   "metadata": {
    "scrolled": true
   },
   "outputs": [
    {
     "name": "stdout",
     "output_type": "stream",
     "text": [
      "0 / 843\n",
      "1 / 843\n",
      "2 / 843\n",
      "3 / 843\n",
      "4 / 843\n",
      "5 / 843\n",
      "6 / 843\n",
      "In  GS\n"
     ]
    },
    {
     "name": "stderr",
     "output_type": "stream",
     "text": [
      "<timed exec>:12: SerializationWarning: saving variable latitude with floating point data as an integer dtype without any _FillValue to use for NaNs\n",
      "<timed exec>:12: SerializationWarning: saving variable longitude with floating point data as an integer dtype without any _FillValue to use for NaNs\n"
     ]
    },
    {
     "name": "stdout",
     "output_type": "stream",
     "text": [
      "7 / 843\n",
      "8 / 843\n",
      "9 / 843\n",
      "10 / 843\n",
      "11 / 843\n",
      "12 / 843\n",
      "13 / 843\n",
      "14 / 843\n",
      "15 / 843\n",
      "16 / 843\n",
      "17 / 843\n",
      "18 / 843\n",
      "19 / 843\n",
      "In  GS\n"
     ]
    },
    {
     "name": "stderr",
     "output_type": "stream",
     "text": [
      "<timed exec>:12: SerializationWarning: saving variable latitude with floating point data as an integer dtype without any _FillValue to use for NaNs\n",
      "<timed exec>:12: SerializationWarning: saving variable longitude with floating point data as an integer dtype without any _FillValue to use for NaNs\n"
     ]
    },
    {
     "name": "stdout",
     "output_type": "stream",
     "text": [
      "20 / 843\n",
      "21 / 843\n",
      "22 / 843\n",
      "23 / 843\n",
      "24 / 843\n",
      "25 / 843\n",
      "26 / 843\n",
      "27 / 843\n",
      "28 / 843\n",
      "29 / 843\n",
      "30 / 843\n",
      "31 / 843\n",
      "32 / 843\n",
      "33 / 843\n",
      "34 / 843\n",
      "In  GS\n"
     ]
    },
    {
     "name": "stderr",
     "output_type": "stream",
     "text": [
      "<timed exec>:12: SerializationWarning: saving variable latitude with floating point data as an integer dtype without any _FillValue to use for NaNs\n",
      "<timed exec>:12: SerializationWarning: saving variable longitude with floating point data as an integer dtype without any _FillValue to use for NaNs\n"
     ]
    },
    {
     "name": "stdout",
     "output_type": "stream",
     "text": [
      "35 / 843\n",
      "36 / 843\n",
      "37 / 843\n",
      "38 / 843\n",
      "39 / 843\n",
      "40 / 843\n",
      "41 / 843\n",
      "42 / 843\n",
      "43 / 843\n",
      "44 / 843\n",
      "45 / 843\n",
      "46 / 843\n",
      "47 / 843\n",
      "In  GS\n"
     ]
    },
    {
     "name": "stderr",
     "output_type": "stream",
     "text": [
      "<timed exec>:12: SerializationWarning: saving variable latitude with floating point data as an integer dtype without any _FillValue to use for NaNs\n",
      "<timed exec>:12: SerializationWarning: saving variable longitude with floating point data as an integer dtype without any _FillValue to use for NaNs\n"
     ]
    },
    {
     "name": "stdout",
     "output_type": "stream",
     "text": [
      "48 / 843\n",
      "49 / 843\n",
      "50 / 843\n",
      "51 / 843\n",
      "52 / 843\n",
      "53 / 843\n",
      "54 / 843\n",
      "55 / 843\n",
      "56 / 843\n",
      "57 / 843\n",
      "58 / 843\n",
      "59 / 843\n",
      "In  GS\n"
     ]
    },
    {
     "name": "stderr",
     "output_type": "stream",
     "text": [
      "<timed exec>:12: SerializationWarning: saving variable latitude with floating point data as an integer dtype without any _FillValue to use for NaNs\n",
      "<timed exec>:12: SerializationWarning: saving variable longitude with floating point data as an integer dtype without any _FillValue to use for NaNs\n"
     ]
    },
    {
     "name": "stdout",
     "output_type": "stream",
     "text": [
      "60 / 843\n",
      "61 / 843\n",
      "62 / 843\n",
      "63 / 843\n",
      "64 / 843\n",
      "65 / 843\n",
      "66 / 843\n",
      "67 / 843\n",
      "68 / 843\n",
      "69 / 843\n",
      "70 / 843\n",
      "71 / 843\n",
      "72 / 843\n",
      "73 / 843\n",
      "74 / 843\n",
      "In  GS\n"
     ]
    },
    {
     "name": "stderr",
     "output_type": "stream",
     "text": [
      "<timed exec>:12: SerializationWarning: saving variable latitude with floating point data as an integer dtype without any _FillValue to use for NaNs\n",
      "<timed exec>:12: SerializationWarning: saving variable longitude with floating point data as an integer dtype without any _FillValue to use for NaNs\n"
     ]
    },
    {
     "name": "stdout",
     "output_type": "stream",
     "text": [
      "75 / 843\n",
      "76 / 843\n",
      "77 / 843\n",
      "78 / 843\n",
      "79 / 843\n",
      "80 / 843\n",
      "81 / 843\n",
      "82 / 843\n",
      "83 / 843\n",
      "84 / 843\n",
      "85 / 843\n",
      "86 / 843\n",
      "87 / 843\n",
      "In  GS\n"
     ]
    },
    {
     "name": "stderr",
     "output_type": "stream",
     "text": [
      "<timed exec>:12: SerializationWarning: saving variable latitude with floating point data as an integer dtype without any _FillValue to use for NaNs\n",
      "<timed exec>:12: SerializationWarning: saving variable longitude with floating point data as an integer dtype without any _FillValue to use for NaNs\n"
     ]
    },
    {
     "name": "stdout",
     "output_type": "stream",
     "text": [
      "88 / 843\n",
      "89 / 843\n",
      "90 / 843\n",
      "91 / 843\n",
      "92 / 843\n",
      "93 / 843\n",
      "94 / 843\n",
      "95 / 843\n",
      "96 / 843\n",
      "97 / 843\n",
      "98 / 843\n",
      "99 / 843\n",
      "100 / 843\n",
      "101 / 843\n",
      "102 / 843\n",
      "103 / 843\n",
      "104 / 843\n",
      "105 / 843\n",
      "106 / 843\n",
      "107 / 843\n",
      "108 / 843\n",
      "109 / 843\n",
      "110 / 843\n",
      "111 / 843\n",
      "112 / 843\n",
      "113 / 843\n",
      "114 / 843\n",
      "In  GS\n"
     ]
    },
    {
     "name": "stderr",
     "output_type": "stream",
     "text": [
      "<timed exec>:12: SerializationWarning: saving variable latitude with floating point data as an integer dtype without any _FillValue to use for NaNs\n",
      "<timed exec>:12: SerializationWarning: saving variable longitude with floating point data as an integer dtype without any _FillValue to use for NaNs\n"
     ]
    },
    {
     "name": "stdout",
     "output_type": "stream",
     "text": [
      "115 / 843\n",
      "116 / 843\n",
      "117 / 843\n",
      "118 / 843\n",
      "119 / 843\n",
      "120 / 843\n",
      "121 / 843\n",
      "122 / 843\n",
      "123 / 843\n",
      "124 / 843\n",
      "125 / 843\n",
      "126 / 843\n",
      "127 / 843\n",
      "128 / 843\n",
      "129 / 843\n",
      "In  GS\n"
     ]
    },
    {
     "name": "stderr",
     "output_type": "stream",
     "text": [
      "<timed exec>:12: SerializationWarning: saving variable latitude with floating point data as an integer dtype without any _FillValue to use for NaNs\n",
      "<timed exec>:12: SerializationWarning: saving variable longitude with floating point data as an integer dtype without any _FillValue to use for NaNs\n"
     ]
    },
    {
     "name": "stdout",
     "output_type": "stream",
     "text": [
      "130 / 843\n",
      "131 / 843\n",
      "132 / 843\n",
      "133 / 843\n",
      "134 / 843\n",
      "135 / 843\n",
      "136 / 843\n",
      "137 / 843\n",
      "138 / 843\n",
      "139 / 843\n",
      "140 / 843\n",
      "141 / 843\n",
      "142 / 843\n",
      "In  GS\n"
     ]
    },
    {
     "name": "stderr",
     "output_type": "stream",
     "text": [
      "<timed exec>:12: SerializationWarning: saving variable latitude with floating point data as an integer dtype without any _FillValue to use for NaNs\n",
      "<timed exec>:12: SerializationWarning: saving variable longitude with floating point data as an integer dtype without any _FillValue to use for NaNs\n"
     ]
    },
    {
     "name": "stdout",
     "output_type": "stream",
     "text": [
      "143 / 843\n",
      "144 / 843\n",
      "145 / 843\n",
      "146 / 843\n",
      "147 / 843\n",
      "148 / 843\n",
      "149 / 843\n",
      "150 / 843\n",
      "151 / 843\n",
      "152 / 843\n",
      "153 / 843\n",
      "154 / 843\n",
      "155 / 843\n",
      "156 / 843\n",
      "157 / 843\n",
      "In  GS\n"
     ]
    },
    {
     "name": "stderr",
     "output_type": "stream",
     "text": [
      "<timed exec>:12: SerializationWarning: saving variable latitude with floating point data as an integer dtype without any _FillValue to use for NaNs\n",
      "<timed exec>:12: SerializationWarning: saving variable longitude with floating point data as an integer dtype without any _FillValue to use for NaNs\n"
     ]
    },
    {
     "name": "stdout",
     "output_type": "stream",
     "text": [
      "158 / 843\n",
      "159 / 843\n",
      "160 / 843\n",
      "161 / 843\n",
      "162 / 843\n",
      "163 / 843\n",
      "164 / 843\n",
      "165 / 843\n",
      "166 / 843\n",
      "167 / 843\n",
      "168 / 843\n",
      "169 / 843\n",
      "170 / 843\n",
      "In  GS\n"
     ]
    },
    {
     "name": "stderr",
     "output_type": "stream",
     "text": [
      "<timed exec>:12: SerializationWarning: saving variable latitude with floating point data as an integer dtype without any _FillValue to use for NaNs\n",
      "<timed exec>:12: SerializationWarning: saving variable longitude with floating point data as an integer dtype without any _FillValue to use for NaNs\n"
     ]
    },
    {
     "name": "stdout",
     "output_type": "stream",
     "text": [
      "171 / 843\n",
      "172 / 843\n",
      "173 / 843\n",
      "174 / 843\n",
      "175 / 843\n",
      "176 / 843\n",
      "177 / 843\n",
      "178 / 843\n",
      "179 / 843\n",
      "180 / 843\n",
      "181 / 843\n",
      "182 / 843\n",
      "183 / 843\n",
      "184 / 843\n",
      "185 / 843\n",
      "In  GS\n"
     ]
    },
    {
     "name": "stderr",
     "output_type": "stream",
     "text": [
      "<timed exec>:12: SerializationWarning: saving variable latitude with floating point data as an integer dtype without any _FillValue to use for NaNs\n",
      "<timed exec>:12: SerializationWarning: saving variable longitude with floating point data as an integer dtype without any _FillValue to use for NaNs\n"
     ]
    },
    {
     "name": "stdout",
     "output_type": "stream",
     "text": [
      "186 / 843\n",
      "187 / 843\n",
      "188 / 843\n",
      "189 / 843\n",
      "190 / 843\n",
      "191 / 843\n",
      "192 / 843\n",
      "193 / 843\n",
      "194 / 843\n",
      "195 / 843\n",
      "196 / 843\n",
      "197 / 843\n",
      "198 / 843\n",
      "In  GS\n"
     ]
    },
    {
     "name": "stderr",
     "output_type": "stream",
     "text": [
      "<timed exec>:12: SerializationWarning: saving variable latitude with floating point data as an integer dtype without any _FillValue to use for NaNs\n",
      "<timed exec>:12: SerializationWarning: saving variable longitude with floating point data as an integer dtype without any _FillValue to use for NaNs\n"
     ]
    },
    {
     "name": "stdout",
     "output_type": "stream",
     "text": [
      "199 / 843\n",
      "200 / 843\n",
      "201 / 843\n",
      "202 / 843\n",
      "203 / 843\n",
      "204 / 843\n",
      "205 / 843\n",
      "206 / 843\n",
      "207 / 843\n",
      "208 / 843\n",
      "209 / 843\n",
      "210 / 843\n",
      "211 / 843\n",
      "212 / 843\n",
      "213 / 843\n",
      "In  GS\n"
     ]
    },
    {
     "name": "stderr",
     "output_type": "stream",
     "text": [
      "<timed exec>:12: SerializationWarning: saving variable latitude with floating point data as an integer dtype without any _FillValue to use for NaNs\n",
      "<timed exec>:12: SerializationWarning: saving variable longitude with floating point data as an integer dtype without any _FillValue to use for NaNs\n"
     ]
    },
    {
     "name": "stdout",
     "output_type": "stream",
     "text": [
      "214 / 843\n",
      "215 / 843\n",
      "216 / 843\n",
      "217 / 843\n",
      "218 / 843\n",
      "219 / 843\n",
      "220 / 843\n",
      "221 / 843\n",
      "222 / 843\n",
      "223 / 843\n",
      "224 / 843\n",
      "225 / 843\n",
      "226 / 843\n",
      "In  GS\n"
     ]
    },
    {
     "name": "stderr",
     "output_type": "stream",
     "text": [
      "<timed exec>:12: SerializationWarning: saving variable latitude with floating point data as an integer dtype without any _FillValue to use for NaNs\n",
      "<timed exec>:12: SerializationWarning: saving variable longitude with floating point data as an integer dtype without any _FillValue to use for NaNs\n"
     ]
    },
    {
     "name": "stdout",
     "output_type": "stream",
     "text": [
      "227 / 843\n",
      "228 / 843\n",
      "229 / 843\n",
      "230 / 843\n",
      "231 / 843\n",
      "232 / 843\n",
      "233 / 843\n",
      "234 / 843\n",
      "235 / 843\n",
      "236 / 843\n",
      "237 / 843\n",
      "238 / 843\n",
      "239 / 843\n",
      "240 / 843\n",
      "241 / 843\n",
      "In  GS\n"
     ]
    },
    {
     "name": "stderr",
     "output_type": "stream",
     "text": [
      "<timed exec>:12: SerializationWarning: saving variable latitude with floating point data as an integer dtype without any _FillValue to use for NaNs\n",
      "<timed exec>:12: SerializationWarning: saving variable longitude with floating point data as an integer dtype without any _FillValue to use for NaNs\n"
     ]
    },
    {
     "name": "stdout",
     "output_type": "stream",
     "text": [
      "242 / 843\n",
      "243 / 843\n",
      "244 / 843\n",
      "245 / 843\n",
      "246 / 843\n",
      "247 / 843\n",
      "248 / 843\n",
      "249 / 843\n",
      "250 / 843\n",
      "251 / 843\n",
      "252 / 843\n",
      "253 / 843\n",
      "254 / 843\n",
      "255 / 843\n",
      "256 / 843\n",
      "In  GS\n"
     ]
    },
    {
     "name": "stderr",
     "output_type": "stream",
     "text": [
      "<timed exec>:12: SerializationWarning: saving variable latitude with floating point data as an integer dtype without any _FillValue to use for NaNs\n",
      "<timed exec>:12: SerializationWarning: saving variable longitude with floating point data as an integer dtype without any _FillValue to use for NaNs\n"
     ]
    },
    {
     "name": "stdout",
     "output_type": "stream",
     "text": [
      "257 / 843\n",
      "258 / 843\n",
      "259 / 843\n",
      "260 / 843\n",
      "261 / 843\n",
      "262 / 843\n",
      "263 / 843\n",
      "264 / 843\n",
      "265 / 843\n",
      "266 / 843\n",
      "267 / 843\n",
      "268 / 843\n",
      "269 / 843\n",
      "270 / 843\n",
      "271 / 843\n",
      "272 / 843\n",
      "273 / 843\n",
      "274 / 843\n",
      "275 / 843\n",
      "276 / 843\n",
      "277 / 843\n",
      "278 / 843\n",
      "279 / 843\n",
      "280 / 843\n",
      "281 / 843\n",
      "282 / 843\n",
      "283 / 843\n",
      "In  GS\n"
     ]
    },
    {
     "name": "stderr",
     "output_type": "stream",
     "text": [
      "<timed exec>:12: SerializationWarning: saving variable latitude with floating point data as an integer dtype without any _FillValue to use for NaNs\n",
      "<timed exec>:12: SerializationWarning: saving variable longitude with floating point data as an integer dtype without any _FillValue to use for NaNs\n"
     ]
    },
    {
     "name": "stdout",
     "output_type": "stream",
     "text": [
      "284 / 843\n",
      "285 / 843\n",
      "286 / 843\n",
      "287 / 843\n",
      "288 / 843\n",
      "289 / 843\n",
      "290 / 843\n",
      "291 / 843\n",
      "292 / 843\n",
      "293 / 843\n",
      "In  GS\n"
     ]
    },
    {
     "name": "stderr",
     "output_type": "stream",
     "text": [
      "<timed exec>:12: SerializationWarning: saving variable latitude with floating point data as an integer dtype without any _FillValue to use for NaNs\n",
      "<timed exec>:12: SerializationWarning: saving variable longitude with floating point data as an integer dtype without any _FillValue to use for NaNs\n"
     ]
    },
    {
     "name": "stdout",
     "output_type": "stream",
     "text": [
      "294 / 843\n",
      "295 / 843\n",
      "296 / 843\n",
      "297 / 843\n",
      "298 / 843\n",
      "299 / 843\n",
      "300 / 843\n",
      "301 / 843\n",
      "302 / 843\n",
      "303 / 843\n",
      "304 / 843\n",
      "305 / 843\n",
      "306 / 843\n",
      "In  GS\n"
     ]
    },
    {
     "name": "stderr",
     "output_type": "stream",
     "text": [
      "<timed exec>:12: SerializationWarning: saving variable latitude with floating point data as an integer dtype without any _FillValue to use for NaNs\n",
      "<timed exec>:12: SerializationWarning: saving variable longitude with floating point data as an integer dtype without any _FillValue to use for NaNs\n"
     ]
    },
    {
     "name": "stdout",
     "output_type": "stream",
     "text": [
      "307 / 843\n",
      "308 / 843\n",
      "309 / 843\n",
      "310 / 843\n",
      "311 / 843\n",
      "312 / 843\n",
      "313 / 843\n",
      "314 / 843\n",
      "315 / 843\n",
      "316 / 843\n",
      "317 / 843\n",
      "318 / 843\n",
      "319 / 843\n",
      "320 / 843\n",
      "321 / 843\n",
      "In  GS\n"
     ]
    },
    {
     "name": "stderr",
     "output_type": "stream",
     "text": [
      "<timed exec>:12: SerializationWarning: saving variable latitude with floating point data as an integer dtype without any _FillValue to use for NaNs\n",
      "<timed exec>:12: SerializationWarning: saving variable longitude with floating point data as an integer dtype without any _FillValue to use for NaNs\n"
     ]
    },
    {
     "name": "stdout",
     "output_type": "stream",
     "text": [
      "322 / 843\n",
      "323 / 843\n",
      "324 / 843\n",
      "325 / 843\n",
      "326 / 843\n",
      "327 / 843\n",
      "328 / 843\n",
      "329 / 843\n",
      "330 / 843\n",
      "In  GS\n"
     ]
    },
    {
     "name": "stderr",
     "output_type": "stream",
     "text": [
      "<timed exec>:12: SerializationWarning: saving variable latitude with floating point data as an integer dtype without any _FillValue to use for NaNs\n",
      "<timed exec>:12: SerializationWarning: saving variable longitude with floating point data as an integer dtype without any _FillValue to use for NaNs\n"
     ]
    },
    {
     "name": "stdout",
     "output_type": "stream",
     "text": [
      "331 / 843\n",
      "332 / 843\n",
      "333 / 843\n",
      "334 / 843\n",
      "335 / 843\n",
      "336 / 843\n",
      "337 / 843\n",
      "338 / 843\n",
      "339 / 843\n",
      "340 / 843\n",
      "341 / 843\n",
      "342 / 843\n",
      "343 / 843\n",
      "344 / 843\n",
      "345 / 843\n",
      "In  GS\n"
     ]
    },
    {
     "name": "stderr",
     "output_type": "stream",
     "text": [
      "<timed exec>:12: SerializationWarning: saving variable latitude with floating point data as an integer dtype without any _FillValue to use for NaNs\n",
      "<timed exec>:12: SerializationWarning: saving variable longitude with floating point data as an integer dtype without any _FillValue to use for NaNs\n"
     ]
    },
    {
     "name": "stdout",
     "output_type": "stream",
     "text": [
      "346 / 843\n",
      "347 / 843\n",
      "348 / 843\n",
      "349 / 843\n",
      "350 / 843\n",
      "351 / 843\n",
      "352 / 843\n",
      "353 / 843\n",
      "354 / 843\n",
      "355 / 843\n",
      "356 / 843\n",
      "357 / 843\n",
      "358 / 843\n",
      "In  GS\n"
     ]
    },
    {
     "name": "stderr",
     "output_type": "stream",
     "text": [
      "<timed exec>:12: SerializationWarning: saving variable latitude with floating point data as an integer dtype without any _FillValue to use for NaNs\n",
      "<timed exec>:12: SerializationWarning: saving variable longitude with floating point data as an integer dtype without any _FillValue to use for NaNs\n"
     ]
    },
    {
     "name": "stdout",
     "output_type": "stream",
     "text": [
      "359 / 843\n",
      "360 / 843\n",
      "361 / 843\n",
      "362 / 843\n",
      "363 / 843\n",
      "364 / 843\n",
      "365 / 843\n",
      "366 / 843\n",
      "367 / 843\n",
      "368 / 843\n",
      "369 / 843\n",
      "370 / 843\n",
      "371 / 843\n",
      "372 / 843\n",
      "373 / 843\n",
      "In  GS\n"
     ]
    },
    {
     "name": "stderr",
     "output_type": "stream",
     "text": [
      "<timed exec>:12: SerializationWarning: saving variable latitude with floating point data as an integer dtype without any _FillValue to use for NaNs\n",
      "<timed exec>:12: SerializationWarning: saving variable longitude with floating point data as an integer dtype without any _FillValue to use for NaNs\n"
     ]
    },
    {
     "name": "stdout",
     "output_type": "stream",
     "text": [
      "374 / 843\n",
      "375 / 843\n",
      "376 / 843\n",
      "377 / 843\n",
      "378 / 843\n",
      "379 / 843\n",
      "380 / 843\n",
      "381 / 843\n",
      "382 / 843\n",
      "383 / 843\n",
      "384 / 843\n",
      "385 / 843\n",
      "386 / 843\n",
      "In  GS\n"
     ]
    },
    {
     "name": "stderr",
     "output_type": "stream",
     "text": [
      "<timed exec>:12: SerializationWarning: saving variable latitude with floating point data as an integer dtype without any _FillValue to use for NaNs\n",
      "<timed exec>:12: SerializationWarning: saving variable longitude with floating point data as an integer dtype without any _FillValue to use for NaNs\n"
     ]
    },
    {
     "name": "stdout",
     "output_type": "stream",
     "text": [
      "387 / 843\n",
      "388 / 843\n",
      "389 / 843\n",
      "390 / 843\n",
      "391 / 843\n",
      "392 / 843\n",
      "393 / 843\n",
      "394 / 843\n",
      "395 / 843\n",
      "396 / 843\n",
      "397 / 843\n",
      "398 / 843\n",
      "399 / 843\n",
      "400 / 843\n",
      "401 / 843\n",
      "In  GS\n"
     ]
    },
    {
     "name": "stderr",
     "output_type": "stream",
     "text": [
      "<timed exec>:12: SerializationWarning: saving variable latitude with floating point data as an integer dtype without any _FillValue to use for NaNs\n",
      "<timed exec>:12: SerializationWarning: saving variable longitude with floating point data as an integer dtype without any _FillValue to use for NaNs\n"
     ]
    },
    {
     "name": "stdout",
     "output_type": "stream",
     "text": [
      "402 / 843\n",
      "403 / 843\n",
      "404 / 843\n",
      "405 / 843\n",
      "406 / 843\n",
      "407 / 843\n",
      "408 / 843\n",
      "409 / 843\n",
      "410 / 843\n",
      "411 / 843\n",
      "412 / 843\n",
      "413 / 843\n",
      "414 / 843\n",
      "In  GS\n"
     ]
    },
    {
     "name": "stderr",
     "output_type": "stream",
     "text": [
      "<timed exec>:12: SerializationWarning: saving variable latitude with floating point data as an integer dtype without any _FillValue to use for NaNs\n",
      "<timed exec>:12: SerializationWarning: saving variable longitude with floating point data as an integer dtype without any _FillValue to use for NaNs\n"
     ]
    },
    {
     "name": "stdout",
     "output_type": "stream",
     "text": [
      "415 / 843\n",
      "416 / 843\n",
      "417 / 843\n",
      "418 / 843\n",
      "419 / 843\n",
      "420 / 843\n",
      "421 / 843\n",
      "422 / 843\n",
      "In  GS\n"
     ]
    },
    {
     "name": "stderr",
     "output_type": "stream",
     "text": [
      "<timed exec>:12: SerializationWarning: saving variable latitude with floating point data as an integer dtype without any _FillValue to use for NaNs\n",
      "<timed exec>:12: SerializationWarning: saving variable longitude with floating point data as an integer dtype without any _FillValue to use for NaNs\n"
     ]
    },
    {
     "name": "stdout",
     "output_type": "stream",
     "text": [
      "423 / 843\n",
      "424 / 843\n",
      "425 / 843\n",
      "426 / 843\n",
      "427 / 843\n",
      "428 / 843\n",
      "429 / 843\n",
      "430 / 843\n",
      "431 / 843\n",
      "432 / 843\n",
      "433 / 843\n",
      "434 / 843\n",
      "435 / 843\n",
      "436 / 843\n",
      "437 / 843\n",
      "438 / 843\n",
      "439 / 843\n",
      "440 / 843\n",
      "In  GS\n"
     ]
    },
    {
     "name": "stderr",
     "output_type": "stream",
     "text": [
      "<timed exec>:12: SerializationWarning: saving variable latitude with floating point data as an integer dtype without any _FillValue to use for NaNs\n",
      "<timed exec>:12: SerializationWarning: saving variable longitude with floating point data as an integer dtype without any _FillValue to use for NaNs\n"
     ]
    },
    {
     "name": "stdout",
     "output_type": "stream",
     "text": [
      "441 / 843\n",
      "442 / 843\n",
      "443 / 843\n",
      "444 / 843\n",
      "445 / 843\n",
      "446 / 843\n",
      "447 / 843\n",
      "448 / 843\n",
      "449 / 843\n",
      "450 / 843\n",
      "451 / 843\n",
      "452 / 843\n",
      "453 / 843\n",
      "In  GS\n"
     ]
    },
    {
     "name": "stderr",
     "output_type": "stream",
     "text": [
      "<timed exec>:12: SerializationWarning: saving variable latitude with floating point data as an integer dtype without any _FillValue to use for NaNs\n",
      "<timed exec>:12: SerializationWarning: saving variable longitude with floating point data as an integer dtype without any _FillValue to use for NaNs\n"
     ]
    },
    {
     "name": "stdout",
     "output_type": "stream",
     "text": [
      "454 / 843\n",
      "455 / 843\n",
      "456 / 843\n",
      "457 / 843\n",
      "458 / 843\n",
      "459 / 843\n",
      "460 / 843\n",
      "461 / 843\n",
      "462 / 843\n",
      "463 / 843\n",
      "464 / 843\n",
      "465 / 843\n",
      "466 / 843\n",
      "In  GS\n"
     ]
    },
    {
     "name": "stderr",
     "output_type": "stream",
     "text": [
      "<timed exec>:12: SerializationWarning: saving variable latitude with floating point data as an integer dtype without any _FillValue to use for NaNs\n",
      "<timed exec>:12: SerializationWarning: saving variable longitude with floating point data as an integer dtype without any _FillValue to use for NaNs\n"
     ]
    },
    {
     "name": "stdout",
     "output_type": "stream",
     "text": [
      "467 / 843\n",
      "468 / 843\n",
      "469 / 843\n",
      "470 / 843\n",
      "471 / 843\n",
      "472 / 843\n",
      "473 / 843\n",
      "474 / 843\n",
      "475 / 843\n",
      "476 / 843\n",
      "477 / 843\n",
      "478 / 843\n",
      "479 / 843\n",
      "In  GS\n"
     ]
    },
    {
     "name": "stderr",
     "output_type": "stream",
     "text": [
      "<timed exec>:12: SerializationWarning: saving variable latitude with floating point data as an integer dtype without any _FillValue to use for NaNs\n",
      "<timed exec>:12: SerializationWarning: saving variable longitude with floating point data as an integer dtype without any _FillValue to use for NaNs\n"
     ]
    },
    {
     "name": "stdout",
     "output_type": "stream",
     "text": [
      "480 / 843\n",
      "481 / 843\n",
      "482 / 843\n",
      "483 / 843\n",
      "484 / 843\n",
      "485 / 843\n",
      "486 / 843\n",
      "487 / 843\n",
      "488 / 843\n",
      "489 / 843\n",
      "490 / 843\n",
      "491 / 843\n",
      "492 / 843\n",
      "493 / 843\n",
      "In  GS\n"
     ]
    },
    {
     "name": "stderr",
     "output_type": "stream",
     "text": [
      "<timed exec>:12: SerializationWarning: saving variable latitude with floating point data as an integer dtype without any _FillValue to use for NaNs\n",
      "<timed exec>:12: SerializationWarning: saving variable longitude with floating point data as an integer dtype without any _FillValue to use for NaNs\n"
     ]
    },
    {
     "name": "stdout",
     "output_type": "stream",
     "text": [
      "494 / 843\n",
      "495 / 843\n",
      "496 / 843\n",
      "497 / 843\n",
      "498 / 843\n",
      "499 / 843\n",
      "500 / 843\n",
      "501 / 843\n",
      "502 / 843\n",
      "503 / 843\n",
      "504 / 843\n",
      "505 / 843\n",
      "506 / 843\n",
      "507 / 843\n",
      "508 / 843\n",
      "509 / 843\n",
      "510 / 843\n",
      "511 / 843\n",
      "In  GS\n"
     ]
    },
    {
     "name": "stderr",
     "output_type": "stream",
     "text": [
      "<timed exec>:12: SerializationWarning: saving variable latitude with floating point data as an integer dtype without any _FillValue to use for NaNs\n",
      "<timed exec>:12: SerializationWarning: saving variable longitude with floating point data as an integer dtype without any _FillValue to use for NaNs\n"
     ]
    },
    {
     "name": "stdout",
     "output_type": "stream",
     "text": [
      "512 / 843\n",
      "513 / 843\n",
      "514 / 843\n",
      "515 / 843\n",
      "516 / 843\n",
      "517 / 843\n",
      "518 / 843\n",
      "519 / 843\n",
      "520 / 843\n",
      "521 / 843\n",
      "522 / 843\n",
      "523 / 843\n",
      "524 / 843\n",
      "525 / 843\n",
      "In  GS\n"
     ]
    },
    {
     "name": "stderr",
     "output_type": "stream",
     "text": [
      "<timed exec>:12: SerializationWarning: saving variable latitude with floating point data as an integer dtype without any _FillValue to use for NaNs\n",
      "<timed exec>:12: SerializationWarning: saving variable longitude with floating point data as an integer dtype without any _FillValue to use for NaNs\n"
     ]
    },
    {
     "name": "stdout",
     "output_type": "stream",
     "text": [
      "526 / 843\n",
      "527 / 843\n",
      "528 / 843\n",
      "529 / 843\n",
      "530 / 843\n",
      "531 / 843\n",
      "532 / 843\n",
      "533 / 843\n",
      "534 / 843\n",
      "535 / 843\n",
      "536 / 843\n",
      "537 / 843\n",
      "538 / 843\n",
      "In  GS\n"
     ]
    },
    {
     "name": "stderr",
     "output_type": "stream",
     "text": [
      "<timed exec>:12: SerializationWarning: saving variable latitude with floating point data as an integer dtype without any _FillValue to use for NaNs\n",
      "<timed exec>:12: SerializationWarning: saving variable longitude with floating point data as an integer dtype without any _FillValue to use for NaNs\n"
     ]
    },
    {
     "name": "stdout",
     "output_type": "stream",
     "text": [
      "539 / 843\n",
      "540 / 843\n",
      "541 / 843\n",
      "542 / 843\n",
      "543 / 843\n",
      "544 / 843\n",
      "545 / 843\n",
      "546 / 843\n",
      "547 / 843\n",
      "548 / 843\n",
      "549 / 843\n",
      "550 / 843\n",
      "551 / 843\n",
      "552 / 843\n",
      "553 / 843\n",
      "In  GS\n"
     ]
    },
    {
     "name": "stderr",
     "output_type": "stream",
     "text": [
      "<timed exec>:12: SerializationWarning: saving variable latitude with floating point data as an integer dtype without any _FillValue to use for NaNs\n",
      "<timed exec>:12: SerializationWarning: saving variable longitude with floating point data as an integer dtype without any _FillValue to use for NaNs\n"
     ]
    },
    {
     "name": "stdout",
     "output_type": "stream",
     "text": [
      "554 / 843\n",
      "555 / 843\n",
      "556 / 843\n",
      "557 / 843\n",
      "558 / 843\n",
      "559 / 843\n",
      "560 / 843\n",
      "561 / 843\n",
      "562 / 843\n",
      "563 / 843\n",
      "564 / 843\n",
      "565 / 843\n",
      "566 / 843\n",
      "In  GS\n"
     ]
    },
    {
     "name": "stderr",
     "output_type": "stream",
     "text": [
      "<timed exec>:12: SerializationWarning: saving variable latitude with floating point data as an integer dtype without any _FillValue to use for NaNs\n",
      "<timed exec>:12: SerializationWarning: saving variable longitude with floating point data as an integer dtype without any _FillValue to use for NaNs\n"
     ]
    },
    {
     "name": "stdout",
     "output_type": "stream",
     "text": [
      "567 / 843\n",
      "568 / 843\n",
      "569 / 843\n",
      "570 / 843\n",
      "571 / 843\n",
      "572 / 843\n",
      "573 / 843\n",
      "574 / 843\n",
      "575 / 843\n",
      "In  GS\n"
     ]
    },
    {
     "name": "stderr",
     "output_type": "stream",
     "text": [
      "<timed exec>:12: SerializationWarning: saving variable latitude with floating point data as an integer dtype without any _FillValue to use for NaNs\n",
      "<timed exec>:12: SerializationWarning: saving variable longitude with floating point data as an integer dtype without any _FillValue to use for NaNs\n"
     ]
    },
    {
     "name": "stdout",
     "output_type": "stream",
     "text": [
      "576 / 843\n",
      "577 / 843\n",
      "578 / 843\n",
      "579 / 843\n",
      "580 / 843\n",
      "581 / 843\n",
      "582 / 843\n",
      "583 / 843\n",
      "584 / 843\n",
      "585 / 843\n",
      "586 / 843\n",
      "In  GS\n"
     ]
    },
    {
     "name": "stderr",
     "output_type": "stream",
     "text": [
      "<timed exec>:12: SerializationWarning: saving variable latitude with floating point data as an integer dtype without any _FillValue to use for NaNs\n",
      "<timed exec>:12: SerializationWarning: saving variable longitude with floating point data as an integer dtype without any _FillValue to use for NaNs\n"
     ]
    },
    {
     "name": "stdout",
     "output_type": "stream",
     "text": [
      "587 / 843\n",
      "588 / 843\n",
      "589 / 843\n",
      "590 / 843\n",
      "591 / 843\n",
      "592 / 843\n",
      "593 / 843\n",
      "594 / 843\n",
      "595 / 843\n",
      "596 / 843\n",
      "597 / 843\n",
      "598 / 843\n",
      "599 / 843\n",
      "600 / 843\n",
      "601 / 843\n",
      "602 / 843\n",
      "603 / 843\n",
      "604 / 843\n",
      "605 / 843\n",
      "606 / 843\n",
      "607 / 843\n",
      "608 / 843\n",
      "609 / 843\n",
      "610 / 843\n",
      "611 / 843\n",
      "612 / 843\n",
      "613 / 843\n",
      "614 / 843\n",
      "615 / 843\n",
      "616 / 843\n",
      "617 / 843\n",
      "618 / 843\n",
      "619 / 843\n",
      "620 / 843\n",
      "621 / 843\n",
      "622 / 843\n",
      "In  GS\n"
     ]
    },
    {
     "name": "stderr",
     "output_type": "stream",
     "text": [
      "<timed exec>:12: SerializationWarning: saving variable latitude with floating point data as an integer dtype without any _FillValue to use for NaNs\n",
      "<timed exec>:12: SerializationWarning: saving variable longitude with floating point data as an integer dtype without any _FillValue to use for NaNs\n"
     ]
    },
    {
     "name": "stdout",
     "output_type": "stream",
     "text": [
      "623 / 843\n",
      "624 / 843\n",
      "625 / 843\n",
      "626 / 843\n",
      "627 / 843\n",
      "628 / 843\n",
      "629 / 843\n",
      "630 / 843\n",
      "631 / 843\n",
      "632 / 843\n",
      "In  GS\n"
     ]
    },
    {
     "name": "stderr",
     "output_type": "stream",
     "text": [
      "<timed exec>:12: SerializationWarning: saving variable latitude with floating point data as an integer dtype without any _FillValue to use for NaNs\n",
      "<timed exec>:12: SerializationWarning: saving variable longitude with floating point data as an integer dtype without any _FillValue to use for NaNs\n"
     ]
    },
    {
     "name": "stdout",
     "output_type": "stream",
     "text": [
      "633 / 843\n",
      "634 / 843\n",
      "635 / 843\n",
      "636 / 843\n",
      "637 / 843\n",
      "638 / 843\n",
      "639 / 843\n",
      "640 / 843\n",
      "641 / 843\n",
      "In  GS\n"
     ]
    },
    {
     "name": "stderr",
     "output_type": "stream",
     "text": [
      "<timed exec>:12: SerializationWarning: saving variable latitude with floating point data as an integer dtype without any _FillValue to use for NaNs\n",
      "<timed exec>:12: SerializationWarning: saving variable longitude with floating point data as an integer dtype without any _FillValue to use for NaNs\n"
     ]
    },
    {
     "name": "stdout",
     "output_type": "stream",
     "text": [
      "642 / 843\n",
      "643 / 843\n",
      "644 / 843\n",
      "645 / 843\n",
      "646 / 843\n",
      "647 / 843\n",
      "648 / 843\n",
      "649 / 843\n",
      "650 / 843\n",
      "In  GS\n"
     ]
    },
    {
     "name": "stderr",
     "output_type": "stream",
     "text": [
      "<timed exec>:12: SerializationWarning: saving variable latitude with floating point data as an integer dtype without any _FillValue to use for NaNs\n",
      "<timed exec>:12: SerializationWarning: saving variable longitude with floating point data as an integer dtype without any _FillValue to use for NaNs\n"
     ]
    },
    {
     "name": "stdout",
     "output_type": "stream",
     "text": [
      "651 / 843\n",
      "652 / 843\n",
      "653 / 843\n",
      "654 / 843\n",
      "655 / 843\n",
      "656 / 843\n",
      "657 / 843\n",
      "658 / 843\n",
      "659 / 843\n",
      "660 / 843\n",
      "661 / 843\n",
      "662 / 843\n",
      "663 / 843\n",
      "In  GS\n"
     ]
    },
    {
     "name": "stderr",
     "output_type": "stream",
     "text": [
      "<timed exec>:12: SerializationWarning: saving variable latitude with floating point data as an integer dtype without any _FillValue to use for NaNs\n",
      "<timed exec>:12: SerializationWarning: saving variable longitude with floating point data as an integer dtype without any _FillValue to use for NaNs\n"
     ]
    },
    {
     "name": "stdout",
     "output_type": "stream",
     "text": [
      "664 / 843\n",
      "665 / 843\n",
      "666 / 843\n",
      "667 / 843\n",
      "668 / 843\n",
      "669 / 843\n",
      "670 / 843\n",
      "671 / 843\n",
      "672 / 843\n",
      "673 / 843\n",
      "674 / 843\n",
      "675 / 843\n",
      "676 / 843\n",
      "677 / 843\n",
      "678 / 843\n",
      "In  GS\n"
     ]
    },
    {
     "name": "stderr",
     "output_type": "stream",
     "text": [
      "<timed exec>:12: SerializationWarning: saving variable latitude with floating point data as an integer dtype without any _FillValue to use for NaNs\n",
      "<timed exec>:12: SerializationWarning: saving variable longitude with floating point data as an integer dtype without any _FillValue to use for NaNs\n"
     ]
    },
    {
     "name": "stdout",
     "output_type": "stream",
     "text": [
      "679 / 843\n",
      "680 / 843\n",
      "681 / 843\n",
      "682 / 843\n",
      "683 / 843\n",
      "684 / 843\n",
      "685 / 843\n",
      "686 / 843\n",
      "687 / 843\n",
      "688 / 843\n",
      "689 / 843\n",
      "In  GS\n"
     ]
    },
    {
     "name": "stderr",
     "output_type": "stream",
     "text": [
      "<timed exec>:12: SerializationWarning: saving variable latitude with floating point data as an integer dtype without any _FillValue to use for NaNs\n",
      "<timed exec>:12: SerializationWarning: saving variable longitude with floating point data as an integer dtype without any _FillValue to use for NaNs\n"
     ]
    },
    {
     "name": "stdout",
     "output_type": "stream",
     "text": [
      "690 / 843\n",
      "691 / 843\n",
      "692 / 843\n",
      "693 / 843\n",
      "694 / 843\n",
      "695 / 843\n",
      "696 / 843\n",
      "697 / 843\n",
      "698 / 843\n",
      "699 / 843\n",
      "700 / 843\n",
      "701 / 843\n",
      "702 / 843\n",
      "703 / 843\n",
      "704 / 843\n",
      "In  GS\n"
     ]
    },
    {
     "name": "stderr",
     "output_type": "stream",
     "text": [
      "<timed exec>:12: SerializationWarning: saving variable latitude with floating point data as an integer dtype without any _FillValue to use for NaNs\n",
      "<timed exec>:12: SerializationWarning: saving variable longitude with floating point data as an integer dtype without any _FillValue to use for NaNs\n"
     ]
    },
    {
     "name": "stdout",
     "output_type": "stream",
     "text": [
      "705 / 843\n",
      "706 / 843\n",
      "707 / 843\n",
      "708 / 843\n",
      "709 / 843\n",
      "710 / 843\n",
      "711 / 843\n",
      "712 / 843\n",
      "713 / 843\n",
      "714 / 843\n",
      "715 / 843\n",
      "716 / 843\n",
      "717 / 843\n",
      "In  GS\n"
     ]
    },
    {
     "name": "stderr",
     "output_type": "stream",
     "text": [
      "<timed exec>:12: SerializationWarning: saving variable latitude with floating point data as an integer dtype without any _FillValue to use for NaNs\n",
      "<timed exec>:12: SerializationWarning: saving variable longitude with floating point data as an integer dtype without any _FillValue to use for NaNs\n"
     ]
    },
    {
     "name": "stdout",
     "output_type": "stream",
     "text": [
      "718 / 843\n",
      "719 / 843\n",
      "720 / 843\n",
      "721 / 843\n",
      "722 / 843\n",
      "723 / 843\n",
      "In  GS\n"
     ]
    },
    {
     "name": "stderr",
     "output_type": "stream",
     "text": [
      "<timed exec>:12: SerializationWarning: saving variable latitude with floating point data as an integer dtype without any _FillValue to use for NaNs\n",
      "<timed exec>:12: SerializationWarning: saving variable longitude with floating point data as an integer dtype without any _FillValue to use for NaNs\n"
     ]
    },
    {
     "name": "stdout",
     "output_type": "stream",
     "text": [
      "724 / 843\n",
      "725 / 843\n",
      "726 / 843\n",
      "727 / 843\n",
      "728 / 843\n",
      "729 / 843\n",
      "730 / 843\n",
      "731 / 843\n",
      "732 / 843\n",
      "733 / 843\n",
      "734 / 843\n",
      "735 / 843\n",
      "736 / 843\n",
      "737 / 843\n",
      "738 / 843\n",
      "739 / 843\n",
      "In  GS\n"
     ]
    },
    {
     "name": "stderr",
     "output_type": "stream",
     "text": [
      "<timed exec>:12: SerializationWarning: saving variable latitude with floating point data as an integer dtype without any _FillValue to use for NaNs\n",
      "<timed exec>:12: SerializationWarning: saving variable longitude with floating point data as an integer dtype without any _FillValue to use for NaNs\n"
     ]
    },
    {
     "name": "stdout",
     "output_type": "stream",
     "text": [
      "740 / 843\n",
      "741 / 843\n",
      "742 / 843\n",
      "743 / 843\n",
      "744 / 843\n",
      "745 / 843\n",
      "746 / 843\n",
      "747 / 843\n",
      "748 / 843\n",
      "749 / 843\n",
      "750 / 843\n",
      "751 / 843\n",
      "752 / 843\n",
      "753 / 843\n",
      "754 / 843\n",
      "755 / 843\n",
      "756 / 843\n",
      "757 / 843\n",
      "758 / 843\n",
      "759 / 843\n",
      "760 / 843\n",
      "761 / 843\n",
      "762 / 843\n",
      "763 / 843\n",
      "764 / 843\n",
      "765 / 843\n",
      "In  GS\n"
     ]
    },
    {
     "name": "stderr",
     "output_type": "stream",
     "text": [
      "<timed exec>:12: SerializationWarning: saving variable latitude with floating point data as an integer dtype without any _FillValue to use for NaNs\n",
      "<timed exec>:12: SerializationWarning: saving variable longitude with floating point data as an integer dtype without any _FillValue to use for NaNs\n"
     ]
    },
    {
     "name": "stdout",
     "output_type": "stream",
     "text": [
      "766 / 843\n",
      "767 / 843\n",
      "768 / 843\n",
      "769 / 843\n",
      "770 / 843\n",
      "771 / 843\n",
      "772 / 843\n",
      "773 / 843\n",
      "774 / 843\n",
      "775 / 843\n",
      "776 / 843\n",
      "777 / 843\n",
      "778 / 843\n",
      "In  GS\n"
     ]
    },
    {
     "name": "stderr",
     "output_type": "stream",
     "text": [
      "<timed exec>:12: SerializationWarning: saving variable latitude with floating point data as an integer dtype without any _FillValue to use for NaNs\n",
      "<timed exec>:12: SerializationWarning: saving variable longitude with floating point data as an integer dtype without any _FillValue to use for NaNs\n"
     ]
    },
    {
     "name": "stdout",
     "output_type": "stream",
     "text": [
      "779 / 843\n",
      "780 / 843\n",
      "781 / 843\n",
      "782 / 843\n",
      "783 / 843\n",
      "784 / 843\n",
      "785 / 843\n",
      "786 / 843\n",
      "787 / 843\n",
      "In  GS\n"
     ]
    },
    {
     "name": "stderr",
     "output_type": "stream",
     "text": [
      "<timed exec>:12: SerializationWarning: saving variable latitude with floating point data as an integer dtype without any _FillValue to use for NaNs\n",
      "<timed exec>:12: SerializationWarning: saving variable longitude with floating point data as an integer dtype without any _FillValue to use for NaNs\n"
     ]
    },
    {
     "name": "stdout",
     "output_type": "stream",
     "text": [
      "788 / 843\n",
      "789 / 843\n",
      "790 / 843\n",
      "791 / 843\n",
      "792 / 843\n",
      "793 / 843\n",
      "794 / 843\n",
      "795 / 843\n",
      "796 / 843\n",
      "797 / 843\n",
      "798 / 843\n",
      "799 / 843\n",
      "800 / 843\n",
      "801 / 843\n",
      "802 / 843\n",
      "In  GS\n"
     ]
    },
    {
     "name": "stderr",
     "output_type": "stream",
     "text": [
      "<timed exec>:12: SerializationWarning: saving variable latitude with floating point data as an integer dtype without any _FillValue to use for NaNs\n",
      "<timed exec>:12: SerializationWarning: saving variable longitude with floating point data as an integer dtype without any _FillValue to use for NaNs\n"
     ]
    },
    {
     "name": "stdout",
     "output_type": "stream",
     "text": [
      "803 / 843\n",
      "804 / 843\n",
      "805 / 843\n",
      "806 / 843\n",
      "807 / 843\n",
      "808 / 843\n",
      "809 / 843\n",
      "810 / 843\n",
      "811 / 843\n",
      "812 / 843\n",
      "813 / 843\n",
      "814 / 843\n",
      "815 / 843\n",
      "In  GS\n"
     ]
    },
    {
     "name": "stderr",
     "output_type": "stream",
     "text": [
      "<timed exec>:12: SerializationWarning: saving variable latitude with floating point data as an integer dtype without any _FillValue to use for NaNs\n",
      "<timed exec>:12: SerializationWarning: saving variable longitude with floating point data as an integer dtype without any _FillValue to use for NaNs\n"
     ]
    },
    {
     "name": "stdout",
     "output_type": "stream",
     "text": [
      "816 / 843\n",
      "817 / 843\n",
      "818 / 843\n",
      "819 / 843\n",
      "820 / 843\n",
      "821 / 843\n",
      "822 / 843\n",
      "823 / 843\n",
      "824 / 843\n",
      "825 / 843\n",
      "826 / 843\n",
      "827 / 843\n",
      "828 / 843\n",
      "829 / 843\n",
      "830 / 843\n",
      "In  GS\n"
     ]
    },
    {
     "name": "stderr",
     "output_type": "stream",
     "text": [
      "<timed exec>:12: SerializationWarning: saving variable latitude with floating point data as an integer dtype without any _FillValue to use for NaNs\n",
      "<timed exec>:12: SerializationWarning: saving variable longitude with floating point data as an integer dtype without any _FillValue to use for NaNs\n"
     ]
    },
    {
     "name": "stdout",
     "output_type": "stream",
     "text": [
      "831 / 843\n",
      "832 / 843\n",
      "833 / 843\n",
      "834 / 843\n",
      "835 / 843\n",
      "836 / 843\n",
      "837 / 843\n",
      "838 / 843\n",
      "839 / 843\n",
      "840 / 843\n",
      "841 / 843\n",
      "In  GS\n"
     ]
    },
    {
     "name": "stderr",
     "output_type": "stream",
     "text": [
      "<timed exec>:12: SerializationWarning: saving variable latitude with floating point data as an integer dtype without any _FillValue to use for NaNs\n",
      "<timed exec>:12: SerializationWarning: saving variable longitude with floating point data as an integer dtype without any _FillValue to use for NaNs\n"
     ]
    },
    {
     "name": "stdout",
     "output_type": "stream",
     "text": [
      "842 / 843\n",
      "CPU times: user 14min 15s, sys: 1min 56s, total: 16min 11s\n",
      "Wall time: 19min 55s\n"
     ]
    }
   ],
   "source": [
    "%%time \n",
    "\n",
    "i = 0\n",
    "for ipath in all_paths: \n",
    "    print(i,'/',np.size(all_paths))\n",
    "    ds_pass = xr.open_mfdataset(ipath,preprocess=drop_num_nadir)\n",
    "    ds_pass = ds_pass.where(ds_pass['longitude']<lon_max,drop=True)\n",
    "    ds_pass = ds_pass.where(ds_pass['longitude']>lon_min,drop=True)\n",
    "    ds_pass = ds_pass.where(ds_pass['latitude']<lat_max,drop=True)\n",
    "    ds_pass = ds_pass.where(ds_pass['latitude']>lat_min,drop=True) \n",
    "    \n",
    "    if ds_pass.num_lines.size != 0:\n",
    "        print('In ',region)\n",
    "        ds_pass.to_netcdf(ipath[:-3]+'_'+region+'.nc')\n",
    "        \n",
    "    i += 1"
   ]
  },
  {
   "cell_type": "code",
   "execution_count": null,
   "id": "34e34562",
   "metadata": {},
   "outputs": [],
   "source": []
  },
  {
   "cell_type": "code",
   "execution_count": null,
   "id": "270d95be",
   "metadata": {},
   "outputs": [],
   "source": []
  },
  {
   "cell_type": "code",
   "execution_count": null,
   "id": "fb06fbe1",
   "metadata": {},
   "outputs": [],
   "source": []
  },
  {
   "cell_type": "code",
   "execution_count": null,
   "id": "cd34b0ec",
   "metadata": {},
   "outputs": [],
   "source": []
  },
  {
   "cell_type": "code",
   "execution_count": null,
   "id": "c8282f38",
   "metadata": {},
   "outputs": [],
   "source": []
  }
 ],
 "metadata": {
  "kernelspec": {
   "display_name": "env-dc-swot-filtering",
   "language": "python",
   "name": "env-dc-swot-filtering"
  },
  "language_info": {
   "codemirror_mode": {
    "name": "ipython",
    "version": 3
   },
   "file_extension": ".py",
   "mimetype": "text/x-python",
   "name": "python",
   "nbconvert_exporter": "python",
   "pygments_lexer": "ipython3",
   "version": "3.10.11"
  }
 },
 "nbformat": 4,
 "nbformat_minor": 5
}
