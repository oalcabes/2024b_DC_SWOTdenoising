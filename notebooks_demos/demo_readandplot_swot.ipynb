{
 "cells": [
  {
   "cell_type": "markdown",
   "id": "18aa4cf8",
   "metadata": {},
   "source": [
    "![header](../figures/logos_partenaires._cmems_se.jpg)"
   ]
  },
  {
   "cell_type": "markdown",
   "id": "ba85a9b3",
   "metadata": {},
   "source": [
    "\n",
    "<div class=\"alert alert-block alert-success\">\n",
    "<h1><center>Demo: Read and plot SWOT data at one specific date </center></h1>\n",
    "<h2><center>For 1 day orbit and 21 day orbit data</center></h2></div>\n",
    "\n",
    "***\n",
    "**Authors:**  Datlas, IGE, IMEDEA & CLS <br>\n",
    "**Copyright:** 2022 Datlas, IGE, IMEDEA & CLS <br>\n",
    "**License:** MIT"
   ]
  },
  {
   "cell_type": "code",
   "execution_count": null,
   "id": "443d34e7",
   "metadata": {},
   "outputs": [],
   "source": [
    "import os\n",
    "import glob\n",
    "import sys\n",
    "sys.path.append('..')\n",
    "import numpy as np \n",
    "import xarray as xr \n",
    "import matplotlib.pyplot as plt\n",
    "\n",
    "\n",
    "from src import mod_plot\n",
    "from src import mod_switchvar\n",
    "from src.dict_regions_info import *"
   ]
  },
  {
   "cell_type": "code",
   "execution_count": null,
   "id": "b63b89d6",
   "metadata": {},
   "outputs": [],
   "source": [
    "\n",
    "region_info = RegionInfo('GS_info').region_info   # Region dictionary info from dict_regions_info.py\n",
    "\n",
    "method = 'Unet_baseline'   # Name for plots title and saving figures\n",
    "\n",
    "name_denoised = 'ssha_denoised_unet' # Name of the denoised SWOT variable in the xarray file "
   ]
  },
  {
   "cell_type": "markdown",
   "id": "b6fd10fc",
   "metadata": {},
   "source": [
    "# A. 21D orbit SWOT data"
   ]
  },
  {
   "cell_type": "markdown",
   "id": "c0704dff",
   "metadata": {},
   "source": [
    "## Read from regional data file \"../swot_data/swot_21j_share_'region'.nc\""
   ]
  },
  {
   "cell_type": "code",
   "execution_count": null,
   "id": "bc47d9b9",
   "metadata": {},
   "outputs": [],
   "source": [
    "path_data = '../swot_data/swot_21j_share_'+region_info['name']+'.nc' \n",
    "\n",
    "date_plot = np.datetime64('2023-09-12')\n",
    "\n",
    "orbit = '21d'"
   ]
  },
  {
   "cell_type": "code",
   "execution_count": null,
   "id": "5e2b39ed",
   "metadata": {},
   "outputs": [],
   "source": [
    "ds_SWOT = xr.open_mfdataset(path_data)\n",
    "\n",
    "ds_SWOT = ds_SWOT.where(ds_SWOT.time>date_plot,drop=True)\n",
    "ds_SWOT = ds_SWOT.where(ds_SWOT.time<date_plot+np.timedelta64(1,'D'),drop=True) "
   ]
  },
  {
   "cell_type": "markdown",
   "id": "7fff7175",
   "metadata": {},
   "source": [
    "## Plot noisy and baseline denoised SSH"
   ]
  },
  {
   "cell_type": "code",
   "execution_count": null,
   "id": "3b1c819c",
   "metadata": {},
   "outputs": [],
   "source": [
    " \n",
    "mod_plot.plot_snapshots(ds_SWOT, variable = 'ssh', name_denoised='ssha_denoised_unet', date_plot=date_plot, region_info=region_info, method=method, orbit = orbit)\n"
   ]
  },
  {
   "cell_type": "markdown",
   "id": "9e6c578f",
   "metadata": {},
   "source": [
    "## Compute and plot SSH gradients and Laplacian"
   ]
  },
  {
   "cell_type": "code",
   "execution_count": null,
   "id": "4669c66c",
   "metadata": {},
   "outputs": [],
   "source": [
    "grad_new_editing, lapl_new_editing = mod_switchvar.deriv1and2(ds_SWOT.ssha_new_editing)\n",
    "grad_denoised_unet, lapl_denoised_unet = mod_switchvar.deriv1and2(ds_SWOT.ssha_denoised_unet)\n",
    "\n",
    "ds_SWOT = ds_SWOT.assign(grad_new_editing=lambda ds_SWOT: ds_SWOT.ssha_new_editing * 0 + grad_new_editing)\n",
    "ds_SWOT = ds_SWOT.assign(grad_denoised_unet=lambda ds_SWOT: ds_SWOT.ssha_denoised_unet * 0 + grad_denoised_unet)\n",
    "\n",
    "ds_SWOT = ds_SWOT.assign(lapl_new_editing=lambda ds_SWOT: ds_SWOT.ssha_new_editing * 0 + lapl_new_editing)\n",
    "ds_SWOT = ds_SWOT.assign(lapl_denoised_unet=lambda ds_SWOT: ds_SWOT.ssha_denoised_unet * 0 + lapl_denoised_unet)\n"
   ]
  },
  {
   "cell_type": "code",
   "execution_count": null,
   "id": "0bc0f608",
   "metadata": {},
   "outputs": [],
   "source": [
    "\n",
    "mod_plot.plot_snapshots(ds_SWOT, variable = 'grad', name_denoised='grad_denoised_unet', date_plot=date_plot, region_info=region_info, method=method, orbit = '21d')\n"
   ]
  },
  {
   "cell_type": "code",
   "execution_count": null,
   "id": "636a3c8d",
   "metadata": {},
   "outputs": [],
   "source": [
    " \n",
    "mod_plot.plot_snapshots(ds_SWOT, variable = 'lapl', name_denoised='lapl_denoised_unet', date_plot=date_plot, region_info=region_info, method=method, orbit = '21d')\n"
   ]
  },
  {
   "cell_type": "markdown",
   "id": "82aadbaf",
   "metadata": {},
   "source": [
    "# B. 1D orbit SWOT data"
   ]
  },
  {
   "cell_type": "markdown",
   "id": "4a32bdcb",
   "metadata": {},
   "source": [
    "## Read from regional data file \"../swot_data/swot_1j_share_'region'.nc\""
   ]
  },
  {
   "cell_type": "code",
   "execution_count": null,
   "id": "d571a943",
   "metadata": {},
   "outputs": [],
   "source": [
    "path_data = '../swot_data/swot_1j_share_'+region_info['name']+'.nc' \n",
    " \n",
    "date_plot = np.datetime64('2023-04-23')\n",
    "\n",
    "orbit = '1d'"
   ]
  },
  {
   "cell_type": "code",
   "execution_count": null,
   "id": "4e750c4b",
   "metadata": {},
   "outputs": [],
   "source": [
    "ds_SWOT = xr.open_mfdataset(path_data)\n",
    "\n",
    "ds_SWOT = ds_SWOT.where(ds_SWOT.time>date_plot,drop=True)\n",
    "ds_SWOT = ds_SWOT.where(ds_SWOT.time<date_plot+np.timedelta64(1,'D'),drop=True) "
   ]
  },
  {
   "cell_type": "markdown",
   "id": "7312b21e",
   "metadata": {},
   "source": [
    "## Plot noisy and baseline denoised SSH"
   ]
  },
  {
   "cell_type": "code",
   "execution_count": null,
   "id": "d05de07f",
   "metadata": {},
   "outputs": [],
   "source": [
    " \n",
    "mod_plot.plot_snapshots(ds_SWOT, variable = 'ssh', name_denoised='ssha_denoised_unet', date_plot=date_plot, region_info=region_info, method=method, orbit = orbit)\n"
   ]
  },
  {
   "cell_type": "markdown",
   "id": "55fc11a8",
   "metadata": {},
   "source": [
    "## Compute and plot SSH gradients and Laplacian"
   ]
  },
  {
   "cell_type": "code",
   "execution_count": null,
   "id": "2825de9c",
   "metadata": {},
   "outputs": [],
   "source": [
    "grad_new_editing, lapl_new_editing = mod_switchvar.deriv1and2(ds_SWOT.ssha_new_editing)\n",
    "grad_denoised_unet, lapl_denoised_unet = mod_switchvar.deriv1and2(ds_SWOT.ssha_denoised_unet)\n",
    "\n",
    "ds_SWOT = ds_SWOT.assign(grad_new_editing=lambda ds_SWOT: ds_SWOT.ssha_new_editing * 0 + grad_new_editing)\n",
    "ds_SWOT = ds_SWOT.assign(grad_denoised_unet=lambda ds_SWOT: ds_SWOT.ssha_denoised_unet * 0 + grad_denoised_unet)\n",
    "\n",
    "ds_SWOT = ds_SWOT.assign(lapl_new_editing=lambda ds_SWOT: ds_SWOT.ssha_new_editing * 0 + lapl_new_editing)\n",
    "ds_SWOT = ds_SWOT.assign(lapl_denoised_unet=lambda ds_SWOT: ds_SWOT.ssha_denoised_unet * 0 + lapl_denoised_unet)\n"
   ]
  },
  {
   "cell_type": "code",
   "execution_count": null,
   "id": "300431bf",
   "metadata": {},
   "outputs": [],
   "source": [
    " \n",
    "mod_plot.plot_snapshots(ds_SWOT, variable = 'grad', name_denoised='grad_denoised_unet', date_plot=date_plot, region_info=region_info, method=method, orbit = orbit)\n"
   ]
  },
  {
   "cell_type": "code",
   "execution_count": null,
   "id": "9a9d44a6",
   "metadata": {},
   "outputs": [],
   "source": [
    " \n",
    "mod_plot.plot_snapshots(ds_SWOT, variable = 'lapl', name_denoised='lapl_denoised_unet', date_plot=date_plot, region_info=region_info, method=method, orbit = orbit)\n"
   ]
  },
  {
   "cell_type": "code",
   "execution_count": null,
   "id": "08ba252e",
   "metadata": {},
   "outputs": [],
   "source": []
  }
 ],
 "metadata": {
  "kernelspec": {
   "display_name": "env-dc-swot-filtering",
   "language": "python",
   "name": "env-dc-swot-filtering"
  },
  "language_info": {
   "codemirror_mode": {
    "name": "ipython",
    "version": 3
   },
   "file_extension": ".py",
   "mimetype": "text/x-python",
   "name": "python",
   "nbconvert_exporter": "python",
   "pygments_lexer": "ipython3",
   "version": "3.10.11"
  }
 },
 "nbformat": 4,
 "nbformat_minor": 5
}
