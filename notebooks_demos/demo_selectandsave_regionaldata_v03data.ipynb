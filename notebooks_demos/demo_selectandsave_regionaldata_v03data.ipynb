{
 "cells": [
  {
   "cell_type": "markdown",
   "id": "c1b9c39d",
   "metadata": {},
   "source": [
    "![header](../figures/logos_partenaires._cmems_se.jpg)"
   ]
  },
  {
   "cell_type": "markdown",
   "id": "58db4c6f",
   "metadata": {},
   "source": [
    "\n",
    "<div class=\"alert alert-block alert-success\">\n",
    "<h1><center>Demo: Select and save regional data </center></h1>\n",
    "<h2><center>Save local netcdf from downloaded netcdf</center></h2></div>\n",
    "\n",
    "***\n",
    "**Authors:**  Datlas, IGE, IMEDEA & CLS <br>\n",
    "**Copyright:** 2022 Datlas, IGE, IMEDEA & CLS <br>\n",
    "**License:** MIT"
   ]
  },
  {
   "cell_type": "code",
   "execution_count": 1,
   "id": "24f74abf",
   "metadata": {},
   "outputs": [],
   "source": [
    "import os\n",
    "import glob\n",
    "import sys\n",
    "sys.path.append('..')\n",
    "import numpy as np \n",
    "import xarray as xr \n",
    "import matplotlib.pyplot as plt\n",
    "from datetime import datetime\n",
    "\n",
    "from src.dict_regions_info import *"
   ]
  },
  {
   "cell_type": "markdown",
   "id": "bf2357f3",
   "metadata": {},
   "source": [
    "# A. CalVal (1 day orbit)"
   ]
  },
  {
   "cell_type": "markdown",
   "id": "2e3ff8b5",
   "metadata": {},
   "source": [
    "## Reading CalVal SWOT data"
   ]
  },
  {
   "cell_type": "code",
   "execution_count": 4,
   "id": "751546d1",
   "metadata": {},
   "outputs": [],
   "source": [
    "# Data repository\n",
    "\n",
    "path_rep = '/Users/sammymetref/Documents/DATLAS/Data/REPROCESSING_L3_KARIN_V0.3_CALVAL/'\n",
    "path_data = sorted(glob.glob(path_rep+'karin/SWOT_L3_LR_SSH_Expert_5*'))\n",
    "\n",
    "def remove_nadir_dim(ds):\n",
    "    return ds.drop_vars({'i_num_line','i_num_pixel'})\n",
    "\n",
    "ds_pass = xr.open_mfdataset(path_data,combine='nested',concat_dim='num_lines',preprocess=remove_nadir_dim)\n",
    "\n",
    "# Need to transform 0,360 longitude into -180,180\n",
    "ds_pass.coords['longitude'] = (ds_pass.coords['longitude'] + 180) % 360 - 180 \n",
    " "
   ]
  },
  {
   "cell_type": "markdown",
   "id": "f241d50d",
   "metadata": {},
   "source": [
    "## Selecting and saving Gulf Stream region"
   ]
  },
  {
   "cell_type": "code",
   "execution_count": 4,
   "id": "dc0f96d2",
   "metadata": {},
   "outputs": [
    {
     "name": "stderr",
     "output_type": "stream",
     "text": [
      "<timed exec>:10: SerializationWarning: saving variable latitude with floating point data as an integer dtype without any _FillValue to use for NaNs\n"
     ]
    },
    {
     "name": "stdout",
     "output_type": "stream",
     "text": [
      "CPU times: user 7min 59s, sys: 7min 12s, total: 15min 11s\n",
      "Wall time: 25min 24s\n"
     ]
    }
   ],
   "source": [
    "%%time\n",
    " \n",
    "region_info = RegionInfo('GS_info').region_info   # Region dictionary info from dict_regions_info.py\n",
    "\n",
    "output_name = path_rep+region_info['name']+'/SWOT_L3_LR_SSH_Expert_v03'\n",
    "\n",
    "ds_pass1 = ds_pass.where(ds_pass['longitude'].compute()<region_info['lon_max'],drop=True)\n",
    "ds_pass1 = ds_pass1.where(ds_pass1['longitude'].compute()>region_info['lon_min'],drop=True)\n",
    "ds_pass1 = ds_pass1.where(ds_pass1['latitude'].compute()<region_info['lat_max'],drop=True)\n",
    "ds_pass1 = ds_pass1.where(ds_pass1['latitude'].compute()>region_info['lat_min'],drop=True)\n",
    "\n",
    "ds_pass1.to_netcdf(output_name+'_'+region_info['name']+'.nc')\n",
    "\n",
    "del ds_pass1"
   ]
  },
  {
   "cell_type": "markdown",
   "id": "1276bbe6",
   "metadata": {},
   "source": [
    "## Selecting and saving Mediterranean region"
   ]
  },
  {
   "cell_type": "code",
   "execution_count": 2,
   "id": "66010249",
   "metadata": {},
   "outputs": [],
   "source": [
    "\n",
    " \n",
    "region_info = RegionInfo('GS_info').region_info   # Region dictionary info from dict_regions_info.py\n"
   ]
  },
  {
   "cell_type": "code",
   "execution_count": 3,
   "id": "17393798",
   "metadata": {},
   "outputs": [
    {
     "data": {
      "text/plain": [
       "{'name': 'GS',\n",
       " 'lon_min': -55,\n",
       " 'lon_max': -45,\n",
       " 'lat_min': 30,\n",
       " 'lat_max': 40,\n",
       " 'lon_ticks': ['55$^\\\\circ$ W',\n",
       "  '53$^\\\\circ$ W',\n",
       "  '51$^\\\\circ$ W',\n",
       "  '49$^\\\\circ$ W',\n",
       "  '47$^\\\\circ$ W'],\n",
       " 'lat_ticks': ['30$^\\\\circ$ N',\n",
       "  '32$^\\\\circ$ N',\n",
       "  '34$^\\\\circ$ N',\n",
       "  '36$^\\\\circ$ N',\n",
       "  '38$^\\\\circ$ N']}"
      ]
     },
     "execution_count": 3,
     "metadata": {},
     "output_type": "execute_result"
    }
   ],
   "source": [
    "region_info "
   ]
  },
  {
   "cell_type": "code",
   "execution_count": null,
   "id": "90626f0f",
   "metadata": {},
   "outputs": [],
   "source": [
    "%%time\n",
    " \n",
    "region_info = RegionInfo('Med_info').region_info   # Region dictionary info from dict_regions_info.py\n",
    "\n",
    "output_name = path_rep+region_info['name']+'/SWOT_L3_LR_SSH_Expert_v03'\n",
    "\n",
    "ds_pass1 = ds_pass.where(ds_pass['longitude'].compute()<region_info['lon_max'],drop=True)\n",
    "del ds_pass\n",
    "ds_pass1 = ds_pass1.where(ds_pass1['longitude'].compute()>region_info['lon_min'],drop=True)\n",
    "ds_pass1 = ds_pass1.where(ds_pass1['latitude'].compute()<region_info['lat_max'],drop=True)\n",
    "ds_pass1 = ds_pass1.where(ds_pass1['latitude'].compute()>region_info['lat_min'],drop=True)\n",
    "\n",
    "ds_pass1.to_netcdf(output_name+'_'+region_info['name']+'.nc')\n",
    "\n",
    "del ds_pass1"
   ]
  },
  {
   "cell_type": "markdown",
   "id": "946736cc",
   "metadata": {},
   "source": [
    "## Selecting and saving Antarctic Circumpolar region"
   ]
  },
  {
   "cell_type": "code",
   "execution_count": null,
   "id": "d10eb76c",
   "metadata": {},
   "outputs": [],
   "source": [
    "%%time\n",
    " \n",
    "region_info = RegionInfo('ACC_info').region_info   # Region dictionary info from dict_regions_info.py\n",
    "\n",
    "output_name = path_rep+region_info['name']+'/SWOT_L3_LR_SSH_Expert_v03'\n",
    "\n",
    "ds_pass1 = ds_pass.where(ds_pass['longitude'].compute()<region_info['lon_max'],drop=True)\n",
    "ds_pass1 = ds_pass1.where(ds_pass1['longitude'].compute()>region_info['lon_min'],drop=True)\n",
    "ds_pass1 = ds_pass1.where(ds_pass1['latitude'].compute()<region_info['lat_max'],drop=True)\n",
    "ds_pass1 = ds_pass1.where(ds_pass1['latitude'].compute()>region_info['lat_min'],drop=True)\n",
    "\n",
    "ds_pass1.to_netcdf(output_name+'_'+region_info['name']+'.nc')\n",
    "\n",
    "del ds_pass1"
   ]
  },
  {
   "cell_type": "markdown",
   "id": "2dde7b42",
   "metadata": {},
   "source": [
    "## Selecting and saving Madagascar region"
   ]
  },
  {
   "cell_type": "code",
   "execution_count": null,
   "id": "8d894e71",
   "metadata": {},
   "outputs": [],
   "source": [
    "%%time\n",
    " \n",
    "region_info = RegionInfo('Mada_info').region_info   # Region dictionary info from dict_regions_info.py\n",
    "\n",
    "output_name = path_rep+region_info['name']+'/SWOT_L3_LR_SSH_Expert_v03'\n",
    "\n",
    "ds_pass1 = ds_pass.where(ds_pass['longitude'].compute()<region_info['lon_max'],drop=True)\n",
    "ds_pass1 = ds_pass1.where(ds_pass1['longitude'].compute()>region_info['lon_min'],drop=True)\n",
    "ds_pass1 = ds_pass1.where(ds_pass1['latitude'].compute()<region_info['lat_max'],drop=True)\n",
    "ds_pass1 = ds_pass1.where(ds_pass1['latitude'].compute()>region_info['lat_min'],drop=True)\n",
    "\n",
    "ds_pass1.to_netcdf(output_name+'_'+region_info['name']+'.nc')\n",
    "\n",
    "del ds_pass1"
   ]
  },
  {
   "cell_type": "markdown",
   "id": "c82e9bad",
   "metadata": {},
   "source": [
    "## Selecting and saving Californian region"
   ]
  },
  {
   "cell_type": "code",
   "execution_count": null,
   "id": "9c39671b",
   "metadata": {},
   "outputs": [],
   "source": [
    "%%time\n",
    " \n",
    "region_info = RegionInfo('Cali_info').region_info   # Region dictionary info from dict_regions_info.py\n",
    "\n",
    "output_name = path_rep+region_info['name']+'/SWOT_L3_LR_SSH_Expert_v03'\n",
    "\n",
    "ds_pass1 = ds_pass.where(ds_pass['longitude'].compute()<region_info['lon_max'],drop=True)\n",
    "ds_pass1 = ds_pass1.where(ds_pass1['longitude'].compute()>region_info['lon_min'],drop=True)\n",
    "ds_pass1 = ds_pass1.where(ds_pass1['latitude'].compute()<region_info['lat_max'],drop=True)\n",
    "ds_pass1 = ds_pass1.where(ds_pass1['latitude'].compute()>region_info['lat_min'],drop=True)\n",
    "\n",
    "ds_pass1.to_netcdf(output_name+'_'+region_info['name']+'.nc')\n",
    "\n",
    "del ds_pass1"
   ]
  },
  {
   "cell_type": "code",
   "execution_count": null,
   "id": "d96c15df",
   "metadata": {},
   "outputs": [],
   "source": []
  },
  {
   "cell_type": "code",
   "execution_count": null,
   "id": "40d913f4",
   "metadata": {},
   "outputs": [],
   "source": []
  }
 ],
 "metadata": {
  "kernelspec": {
   "display_name": "env-dc-swot-filtering",
   "language": "python",
   "name": "env-dc-swot-filtering"
  },
  "language_info": {
   "codemirror_mode": {
    "name": "ipython",
    "version": 3
   },
   "file_extension": ".py",
   "mimetype": "text/x-python",
   "name": "python",
   "nbconvert_exporter": "python",
   "pygments_lexer": "ipython3",
   "version": "3.10.11"
  }
 },
 "nbformat": 4,
 "nbformat_minor": 5
}
