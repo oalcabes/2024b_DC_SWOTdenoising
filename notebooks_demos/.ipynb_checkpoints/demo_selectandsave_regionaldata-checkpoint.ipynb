{
 "cells": [
  {
   "cell_type": "markdown",
   "id": "61f76e09",
   "metadata": {},
   "source": [
    "![header](../figures/logos_partenaires._cmems_se.jpg)"
   ]
  },
  {
   "cell_type": "markdown",
   "id": "fc25a57e",
   "metadata": {},
   "source": [
    "\n",
    "<div class=\"alert alert-block alert-success\">\n",
    "<h1><center>Demo: Select and save regional data </center></h1>\n",
    "<h2><center>Save local netcdf from downloaded netcdf</center></h2></div>\n",
    "\n",
    "***\n",
    "**Authors:**  Datlas, IGE, IMEDEA & CLS <br>\n",
    "**Copyright:** 2022 Datlas, IGE, IMEDEA & CLS <br>\n",
    "**License:** MIT"
   ]
  },
  {
   "cell_type": "code",
   "execution_count": 1,
   "id": "0ce1ebad",
   "metadata": {},
   "outputs": [],
   "source": [
    "import os\n",
    "import glob\n",
    "import sys\n",
    "sys.path.append('..')\n",
    "import numpy as np \n",
    "import xarray as xr \n",
    "import matplotlib.pyplot as plt\n",
    "from datetime import datetime\n",
    "\n",
    "from src.dict_regions_info import *"
   ]
  },
  {
   "cell_type": "markdown",
   "id": "c3440346",
   "metadata": {},
   "source": [
    "# A. 21 day orbit"
   ]
  },
  {
   "cell_type": "markdown",
   "id": "4228eb06",
   "metadata": {},
   "source": [
    "## Reading 21 day SWOT data"
   ]
  },
  {
   "cell_type": "code",
   "execution_count": 3,
   "id": "39dc77da",
   "metadata": {},
   "outputs": [],
   "source": [
    "# Data repository\n",
    "path_data = '../swot_data/swot_21j_share' \n",
    "\n",
    "ds_pass = xr.open_mfdataset(path_data+'/SWOT*',combine='nested',concat_dim='num_lines')\n",
    "\n",
    "# Need to transform 0,360 longitude into -180,180\n",
    "ds_pass.coords['longitude'] = (ds_pass.coords['longitude'] + 180) % 360 - 180 "
   ]
  },
  {
   "cell_type": "markdown",
   "id": "f5e885f6",
   "metadata": {},
   "source": [
    "## Selecting and saving Gulf Stream region"
   ]
  },
  {
   "cell_type": "code",
   "execution_count": 4,
   "id": "fc05727e",
   "metadata": {},
   "outputs": [
    {
     "name": "stdout",
     "output_type": "stream",
     "text": [
      "CPU times: user 3min 55s, sys: 31.5 s, total: 4min 27s\n",
      "Wall time: 2min 21s\n"
     ]
    }
   ],
   "source": [
    "%%time\n",
    " \n",
    "region_info = RegionInfo('GS_info').region_info   # Region dictionary info from dict_regions_info.py\n",
    "\n",
    "\n",
    "ds_pass1 = ds_pass.where(ds_pass['longitude']<region_info['lon_max'],drop=True)\n",
    "ds_pass1 = ds_pass1.where(ds_pass1['longitude']>region_info['lon_min'],drop=True)\n",
    "ds_pass1 = ds_pass1.where(ds_pass1['latitude']<region_info['lat_max'],drop=True)\n",
    "ds_pass1 = ds_pass1.where(ds_pass1['latitude']>region_info['lat_min'],drop=True)\n",
    "\n",
    "ds_pass1.to_netcdf(path_data+'_'+region_info['name']+'.nc')\n",
    "\n",
    "del ds_pass1"
   ]
  },
  {
   "cell_type": "markdown",
   "id": "e33fc1d9",
   "metadata": {},
   "source": [
    "## Selecting and saving Mediterranean region"
   ]
  },
  {
   "cell_type": "code",
   "execution_count": 5,
   "id": "635e2521",
   "metadata": {},
   "outputs": [
    {
     "name": "stdout",
     "output_type": "stream",
     "text": [
      "CPU times: user 3min 59s, sys: 30.9 s, total: 4min 30s\n",
      "Wall time: 2min 18s\n"
     ]
    }
   ],
   "source": [
    "%%time\n",
    " \n",
    "region_info = RegionInfo('Med_info').region_info   # Region dictionary info from dict_regions_info.py\n",
    "\n",
    "ds_pass1 = ds_pass.where(ds_pass['longitude']<region_info['lon_max'],drop=True)\n",
    "ds_pass1 = ds_pass1.where(ds_pass1['longitude']>region_info['lon_min'],drop=True)\n",
    "ds_pass1 = ds_pass1.where(ds_pass1['latitude']<region_info['lat_max'],drop=True)\n",
    "ds_pass1 = ds_pass1.where(ds_pass1['latitude']>region_info['lat_min'],drop=True)\n",
    "\n",
    "ds_pass1.to_netcdf(path_data+'_'+region_info['name']+'.nc')\n",
    "\n",
    "del ds_pass1"
   ]
  },
  {
   "cell_type": "markdown",
   "id": "35f847c0",
   "metadata": {},
   "source": [
    "## Selecting and saving Antarctic Circumpolar region"
   ]
  },
  {
   "cell_type": "code",
   "execution_count": 6,
   "id": "e87310f7",
   "metadata": {},
   "outputs": [
    {
     "name": "stdout",
     "output_type": "stream",
     "text": [
      "CPU times: user 3min 33s, sys: 24.2 s, total: 3min 57s\n",
      "Wall time: 1min 46s\n"
     ]
    }
   ],
   "source": [
    "%%time\n",
    " \n",
    "region_info = RegionInfo('ACC_info').region_info   # Region dictionary info from dict_regions_info.py\n",
    "\n",
    "ds_pass1 = ds_pass.where(ds_pass['longitude']<region_info['lon_max'],drop=True)\n",
    "ds_pass1 = ds_pass1.where(ds_pass1['longitude']>region_info['lon_min'],drop=True)\n",
    "ds_pass1 = ds_pass1.where(ds_pass1['latitude']<region_info['lat_max'],drop=True)\n",
    "ds_pass1 = ds_pass1.where(ds_pass1['latitude']>region_info['lat_min'],drop=True)\n",
    "\n",
    "ds_pass1.to_netcdf(path_data+'_'+region_info['name']+'.nc')\n",
    "\n",
    "del ds_pass1"
   ]
  },
  {
   "cell_type": "markdown",
   "id": "9d808a68",
   "metadata": {},
   "source": [
    "## Selecting and saving Madagascar region"
   ]
  },
  {
   "cell_type": "code",
   "execution_count": 7,
   "id": "3fc2e49c",
   "metadata": {},
   "outputs": [
    {
     "name": "stdout",
     "output_type": "stream",
     "text": [
      "CPU times: user 3min 52s, sys: 29.3 s, total: 4min 21s\n",
      "Wall time: 2min 9s\n"
     ]
    }
   ],
   "source": [
    "%%time\n",
    " \n",
    "region_info = RegionInfo('Mada_info').region_info   # Region dictionary info from dict_regions_info.py\n",
    "\n",
    "ds_pass1 = ds_pass.where(ds_pass['longitude']<region_info['lon_max'],drop=True)\n",
    "ds_pass1 = ds_pass1.where(ds_pass1['longitude']>region_info['lon_min'],drop=True)\n",
    "ds_pass1 = ds_pass1.where(ds_pass1['latitude']<region_info['lat_max'],drop=True)\n",
    "ds_pass1 = ds_pass1.where(ds_pass1['latitude']>region_info['lat_min'],drop=True)\n",
    "\n",
    "ds_pass1.to_netcdf(path_data+'_'+region_info['name']+'.nc')\n",
    "\n",
    "del ds_pass1"
   ]
  },
  {
   "cell_type": "markdown",
   "id": "5411df01",
   "metadata": {},
   "source": [
    "## Selecting and saving Californian region"
   ]
  },
  {
   "cell_type": "code",
   "execution_count": 8,
   "id": "f27bfbe2",
   "metadata": {},
   "outputs": [
    {
     "name": "stdout",
     "output_type": "stream",
     "text": [
      "CPU times: user 3min 1s, sys: 23 s, total: 3min 23s\n",
      "Wall time: 1min 33s\n"
     ]
    }
   ],
   "source": [
    "%%time\n",
    " \n",
    "region_info = RegionInfo('Cali_info').region_info   # Region dictionary info from dict_regions_info.py\n",
    "\n",
    "ds_pass1 = ds_pass.where(ds_pass['longitude']<region_info['lon_max'],drop=True)\n",
    "ds_pass1 = ds_pass1.where(ds_pass1['longitude']>region_info['lon_min'],drop=True)\n",
    "ds_pass1 = ds_pass1.where(ds_pass1['latitude']<region_info['lat_max'],drop=True)\n",
    "ds_pass1 = ds_pass1.where(ds_pass1['latitude']>region_info['lat_min'],drop=True)\n",
    "\n",
    "ds_pass1.to_netcdf(path_data+'_'+region_info['name']+'.nc')\n",
    "\n",
    "del ds_pass1"
   ]
  },
  {
   "cell_type": "markdown",
   "id": "224abd63",
   "metadata": {},
   "source": [
    "# B. 1 day orbit"
   ]
  },
  {
   "cell_type": "markdown",
   "id": "d3d628b9",
   "metadata": {},
   "source": [
    "## Reading 1 day SWOT data"
   ]
  },
  {
   "cell_type": "code",
   "execution_count": 9,
   "id": "74105809",
   "metadata": {},
   "outputs": [],
   "source": [
    "# Data repository\n",
    "path_data = '../swot_data/swot_1j_share' \n",
    "\n",
    "ds_pass = xr.open_mfdataset(path_data+'/SWOT*',combine='nested',concat_dim='num_lines')\n",
    "\n",
    "\n",
    "# Need to transform 0,360 longitude into -180,180\n",
    "ds_pass.coords['longitude'] = (ds_pass.coords['longitude'] + 180) % 360 - 180 "
   ]
  },
  {
   "cell_type": "markdown",
   "id": "1066f280",
   "metadata": {},
   "source": [
    "## Selecting and saving Gulf Stream region"
   ]
  },
  {
   "cell_type": "code",
   "execution_count": 10,
   "id": "b992e768",
   "metadata": {},
   "outputs": [
    {
     "name": "stdout",
     "output_type": "stream",
     "text": [
      "CPU times: user 4min 21s, sys: 36.4 s, total: 4min 58s\n",
      "Wall time: 3min 6s\n"
     ]
    }
   ],
   "source": [
    "%%time\n",
    " \n",
    "region_info = RegionInfo('GS_info').region_info   # Region dictionary info from dict_regions_info.py\n",
    "\n",
    "ds_pass1 = ds_pass.where(ds_pass['longitude']<region_info['lon_max'],drop=True)\n",
    "ds_pass1 = ds_pass1.where(ds_pass1['longitude']>region_info['lon_min'],drop=True)\n",
    "ds_pass1 = ds_pass1.where(ds_pass1['latitude']<region_info['lat_max'],drop=True)\n",
    "ds_pass1 = ds_pass1.where(ds_pass1['latitude']>region_info['lat_min'],drop=True)\n",
    "\n",
    "ds_pass1.to_netcdf(path_data+'_'+region_info['name']+'.nc')\n",
    "\n",
    "del ds_pass1"
   ]
  },
  {
   "cell_type": "markdown",
   "id": "41e6b412",
   "metadata": {},
   "source": [
    "## Selecting and saving Mediterranean region"
   ]
  },
  {
   "cell_type": "code",
   "execution_count": 11,
   "id": "97163882",
   "metadata": {},
   "outputs": [
    {
     "name": "stdout",
     "output_type": "stream",
     "text": [
      "CPU times: user 5min 11s, sys: 43.7 s, total: 5min 55s\n",
      "Wall time: 3min 47s\n"
     ]
    }
   ],
   "source": [
    "%%time \n",
    "\n",
    "region_info = RegionInfo('Med_info').region_info   # Region dictionary info from dict_regions_info.py\n",
    "\n",
    "ds_pass1 = ds_pass.where(ds_pass['longitude']<region_info['lon_max'],drop=True)\n",
    "ds_pass1 = ds_pass1.where(ds_pass1['longitude']>region_info['lon_min'],drop=True)\n",
    "ds_pass1 = ds_pass1.where(ds_pass1['latitude']<region_info['lat_max'],drop=True)\n",
    "ds_pass1 = ds_pass1.where(ds_pass1['latitude']>region_info['lat_min'],drop=True)\n",
    "\n",
    "ds_pass1.to_netcdf(path_data+'_'+region_info['name']+'.nc')\n",
    "\n",
    "del ds_pass1"
   ]
  },
  {
   "cell_type": "markdown",
   "id": "ad921d4a",
   "metadata": {},
   "source": [
    "## Selecting and saving Antarctic Circumpolar region"
   ]
  },
  {
   "cell_type": "code",
   "execution_count": 12,
   "id": "a8a4902a",
   "metadata": {},
   "outputs": [
    {
     "name": "stdout",
     "output_type": "stream",
     "text": [
      "CPU times: user 4min 8s, sys: 31.1 s, total: 4min 39s\n",
      "Wall time: 2min 23s\n"
     ]
    }
   ],
   "source": [
    "%%time \n",
    "\n",
    "region_info = RegionInfo('ACC_info').region_info   # Region dictionary info from dict_regions_info.py\n",
    "\n",
    "ds_pass1 = ds_pass.where(ds_pass['longitude']<region_info['lon_max'],drop=True)\n",
    "ds_pass1 = ds_pass1.where(ds_pass1['longitude']>region_info['lon_min'],drop=True)\n",
    "ds_pass1 = ds_pass1.where(ds_pass1['latitude']<region_info['lat_max'],drop=True)\n",
    "ds_pass1 = ds_pass1.where(ds_pass1['latitude']>region_info['lat_min'],drop=True)\n",
    "\n",
    "ds_pass1.to_netcdf(path_data+'_'+region_info['name']+'.nc')\n",
    "\n",
    "del ds_pass1"
   ]
  },
  {
   "cell_type": "markdown",
   "id": "a68dffc2",
   "metadata": {},
   "source": [
    "## Selecting and saving Madagascar region"
   ]
  },
  {
   "cell_type": "code",
   "execution_count": 13,
   "id": "79090b7d",
   "metadata": {},
   "outputs": [
    {
     "name": "stdout",
     "output_type": "stream",
     "text": [
      "CPU times: user 4min 10s, sys: 33.3 s, total: 4min 44s\n",
      "Wall time: 2min 27s\n"
     ]
    }
   ],
   "source": [
    "%%time\n",
    " \n",
    "region_info = RegionInfo('Mada_info').region_info   # Region dictionary info from dict_regions_info.py\n",
    "\n",
    "ds_pass1 = ds_pass.where(ds_pass['longitude']<region_info['lon_max'],drop=True)\n",
    "ds_pass1 = ds_pass1.where(ds_pass1['longitude']>region_info['lon_min'],drop=True)\n",
    "ds_pass1 = ds_pass1.where(ds_pass1['latitude']<region_info['lat_max'],drop=True)\n",
    "ds_pass1 = ds_pass1.where(ds_pass1['latitude']>region_info['lat_min'],drop=True)\n",
    "\n",
    "ds_pass1.to_netcdf(path_data+'_'+region_info['name']+'.nc')\n",
    "\n",
    "del ds_pass1"
   ]
  },
  {
   "cell_type": "markdown",
   "id": "b8247150",
   "metadata": {},
   "source": [
    "## Selecting and saving Californian region"
   ]
  },
  {
   "cell_type": "code",
   "execution_count": 14,
   "id": "26d4bd48",
   "metadata": {},
   "outputs": [
    {
     "name": "stdout",
     "output_type": "stream",
     "text": [
      "CPU times: user 3min 20s, sys: 26.6 s, total: 3min 46s\n",
      "Wall time: 1min 46s\n"
     ]
    }
   ],
   "source": [
    "%%time\n",
    "\n",
    "region_info = Cali_info\n",
    "\n",
    "ds_pass1 = ds_pass.where(ds_pass['longitude']<region_info['lon_max'],drop=True)\n",
    "ds_pass1 = ds_pass1.where(ds_pass1['longitude']>region_info['lon_min'],drop=True)\n",
    "ds_pass1 = ds_pass1.where(ds_pass1['latitude']<region_info['lat_max'],drop=True)\n",
    "ds_pass1 = ds_pass1.where(ds_pass1['latitude']>region_info['lat_min'],drop=True)\n",
    "\n",
    "ds_pass1.to_netcdf(path_data+'_'+region_info['name']+'.nc')\n",
    "\n",
    "del ds_pass1"
   ]
  },
  {
   "cell_type": "code",
   "execution_count": null,
   "id": "681a235f",
   "metadata": {},
   "outputs": [],
   "source": []
  },
  {
   "cell_type": "code",
   "execution_count": null,
   "id": "341a15cf",
   "metadata": {},
   "outputs": [],
   "source": []
  }
 ],
 "metadata": {
  "kernelspec": {
   "display_name": "env-dc-swot-filtering",
   "language": "python",
   "name": "env-dc-swot-filtering"
  },
  "language_info": {
   "codemirror_mode": {
    "name": "ipython",
    "version": 3
   },
   "file_extension": ".py",
   "mimetype": "text/x-python",
   "name": "python",
   "nbconvert_exporter": "python",
   "pygments_lexer": "ipython3",
   "version": "3.10.11"
  }
 },
 "nbformat": 4,
 "nbformat_minor": 5
}
