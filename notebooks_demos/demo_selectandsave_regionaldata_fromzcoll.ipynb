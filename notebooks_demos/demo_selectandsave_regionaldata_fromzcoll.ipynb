{
 "cells": [
  {
   "cell_type": "markdown",
   "id": "4877053b",
   "metadata": {},
   "source": [
    "![header](../figures/logos_partenaires._cmems_se.jpg)"
   ]
  },
  {
   "cell_type": "markdown",
   "id": "b85e8d6e",
   "metadata": {},
   "source": [
    "\n",
    "<div class=\"alert alert-block alert-success\">\n",
    "<h1><center>Demo: Select and save regional data </center></h1>\n",
    "<h2><center>Save local netcdf from downloaded netcdf</center></h2></div>\n",
    "\n",
    "***\n",
    "**Authors:**  Datlas, IGE, IMEDEA & CLS <br>\n",
    "**Copyright:** 2022 Datlas, IGE, IMEDEA & CLS <br>\n",
    "**License:** MIT"
   ]
  },
  {
   "cell_type": "code",
   "execution_count": 1,
   "id": "81ce331b",
   "metadata": {},
   "outputs": [],
   "source": [
    "import os\n",
    "import glob\n",
    "import sys\n",
    "sys.path.append('..')\n",
    "import numpy as np \n",
    "import zcollection\n",
    "import xarray as xr \n",
    "import matplotlib.pyplot as plt\n",
    "import datetime\n",
    "\n",
    "from src.dict_regions_info import *"
   ]
  },
  {
   "cell_type": "markdown",
   "id": "6c713698",
   "metadata": {},
   "source": [
    "# From V1.0.2_CALVAL"
   ]
  },
  {
   "cell_type": "markdown",
   "id": "c9817bdc",
   "metadata": {},
   "source": [
    "## Reading data"
   ]
  },
  {
   "cell_type": "code",
   "execution_count": 2,
   "id": "0d47a4cb",
   "metadata": {},
   "outputs": [],
   "source": [
    "path = '/Users/sammymetref/Documents/DataChallenges/2024b_DC_SWOTdenoising/V1.0.2_CALVAL/' \n"
   ]
  },
  {
   "cell_type": "code",
   "execution_count": 3,
   "id": "7af770b7",
   "metadata": {},
   "outputs": [
    {
     "name": "stdout",
     "output_type": "stream",
     "text": [
      "CPU times: user 1min 3s, sys: 1min 46s, total: 2min 50s\n",
      "Wall time: 4min 12s\n"
     ]
    },
    {
     "name": "stderr",
     "output_type": "stream",
     "text": [
      "2024-11-13 00:34:05,158 - tornado.application - ERROR - Exception in callback <bound method SystemMonitor.update of <SystemMonitor: cpu: 10 memory: 35 MB fds: 84>>\n",
      "Traceback (most recent call last):\n",
      "  File \"/Users/sammymetref/miniconda3/envs/env-dc-swot-filtering/lib/python3.10/site-packages/tornado/ioloop.py\", line 937, in _run\n",
      "    val = self.callback()\n",
      "  File \"/Users/sammymetref/miniconda3/envs/env-dc-swot-filtering/lib/python3.10/site-packages/distributed/system_monitor.py\", line 160, in update\n",
      "    net_ioc = psutil.net_io_counters()\n",
      "  File \"/Users/sammymetref/miniconda3/envs/env-dc-swot-filtering/lib/python3.10/site-packages/psutil/__init__.py\", line 2117, in net_io_counters\n",
      "    rawdict = _psplatform.net_io_counters()\n",
      "OSError: [Errno 12] Cannot allocate memory\n"
     ]
    }
   ],
   "source": [
    "%%time \n",
    "\n",
    "t0 = datetime.date(2023, 5, 1) \n",
    "tN = datetime.date(2023, 5, 11)\n",
    "\n",
    "variables = ['longitude', 'latitude', 'pass_number', 'cycle_number', 'time',\n",
    "             'duacs_ssha_karin_2_calibrated', 'duacs_editing_flag', \n",
    "             'duacs_ssha_karin_2_filtered', 'swh_model', 'distance_to_coast',\n",
    "             'duacs_speed_zonal', 'duacs_speed_meridional', 'duacs_relative_vorticity'\n",
    "            ]\n",
    "\n",
    "zc = zcollection.open_collection(path)\n",
    "zc_ds = zc.load( selected_variables=variables, \n",
    "                 filters = lambda keys: t0 <= datetime.date(keys['year'], keys['month'], keys[\"day\"]) <= tN\n",
    ") \n",
    "\n",
    "ds_pass = zc_ds.to_xarray().load()\n",
    "ds_pass = ds_pass.set_coords(['longitude', 'latitude'])\n",
    "#ds_pass = ds_pass.where(ds_pass.pass_number <= 2, drop = True)\n",
    "\n",
    "ds_pass['ssha_karin_2_edited'] = xr.where(ds_pass.duacs_editing_flag == 0, ds_pass.duacs_ssha_karin_2_calibrated, np.nan)\n",
    "ds_pass['residuals'] = ds_pass.ssha_karin_2_edited - ds_pass.duacs_ssha_karin_2_filtered\n",
    "\n",
    "# Need to transform 0,360 longitude into -180,180\n",
    "lon_attrs = ds_pass.longitude.attrs\n",
    "ds_pass.coords['longitude'] = (ds_pass.coords['longitude'] + 180) % 360 - 180 \n",
    "ds_pass.longitude.attrs = lon_attrs"
   ]
  },
  {
   "cell_type": "code",
   "execution_count": 4,
   "id": "db387d15",
   "metadata": {},
   "outputs": [],
   "source": [
    "\n",
    "path_data = '../swot_data/V1.0.2_CALVAL/SWOT_L3_LR_SSH_Expert'"
   ]
  },
  {
   "cell_type": "markdown",
   "id": "73494023",
   "metadata": {},
   "source": [
    "## Selecting and saving Gulf Stream region"
   ]
  },
  {
   "cell_type": "code",
   "execution_count": 36,
   "id": "1881ee73",
   "metadata": {
    "scrolled": true
   },
   "outputs": [
    {
     "name": "stdout",
     "output_type": "stream",
     "text": [
      "CPU times: user 59.1 s, sys: 2min 15s, total: 3min 14s\n",
      "Wall time: 8min 19s\n"
     ]
    }
   ],
   "source": [
    "%%time\n",
    " \n",
    "region_info = RegionInfo('GS_info').region_info   # Region dictionary info from dict_regions_info.py\n",
    " \n",
    "\n",
    "ds_pass1 = ds_pass.where(ds_pass['longitude'].compute()<region_info['lon_max'],drop=True)\n",
    "ds_pass1 = ds_pass1.where(ds_pass1['longitude'].compute()>region_info['lon_min'],drop=True)\n",
    "ds_pass1 = ds_pass1.where(ds_pass1['latitude'].compute()<region_info['lat_max'],drop=True)\n",
    "ds_pass1 = ds_pass1.where(ds_pass1['latitude'].compute()>region_info['lat_min'],drop=True)\n",
    "ds_pass1.time.attrs['_FillValue'] = np.nan\n",
    "\n",
    "cycle_number = np.nanmax(ds_pass1.cycle_number,axis=1) \n",
    "ds_pass1 = ds_pass1.drop_vars({'cycle_number'})\n",
    "ds_pass1['cycle_number'] = (['num_lines', ], cycle_number)\n",
    "\n",
    "pass_number = np.nanmax(ds_pass1.pass_number,axis=1) \n",
    "ds_pass1 = ds_pass1.drop_vars({'pass_number'})\n",
    "ds_pass1['pass_number'] = (['num_lines', ], pass_number)\n",
    "\n",
    "\n",
    "ds_pass1.to_netcdf(path_data+'_'+region_info['name']+'_v1.0.2.nc')\n",
    "\n",
    "#del ds_pass1"
   ]
  },
  {
   "cell_type": "markdown",
   "id": "a6970954",
   "metadata": {},
   "source": [
    "## Selecting and saving Mediterranean region"
   ]
  },
  {
   "cell_type": "code",
   "execution_count": 38,
   "id": "2a0116b7",
   "metadata": {},
   "outputs": [
    {
     "name": "stderr",
     "output_type": "stream",
     "text": [
      "<timed exec>:9: RuntimeWarning: All-NaN axis encountered\n",
      "<timed exec>:13: RuntimeWarning: All-NaN axis encountered\n"
     ]
    },
    {
     "name": "stdout",
     "output_type": "stream",
     "text": [
      "CPU times: user 1min 9s, sys: 2min 44s, total: 3min 54s\n",
      "Wall time: 9min 12s\n"
     ]
    }
   ],
   "source": [
    "%%time \n",
    "\n",
    "region_info = RegionInfo('Med_info').region_info   # Region dictionary info from dict_regions_info.py\n",
    "\n",
    "ds_pass1 = ds_pass.where(ds_pass['longitude'].compute()<region_info['lon_max'],drop=True)\n",
    "ds_pass1 = ds_pass1.where(ds_pass1['longitude'].compute()>region_info['lon_min'],drop=True)\n",
    "ds_pass1 = ds_pass1.where(ds_pass1['latitude'].compute()<region_info['lat_max'],drop=True)\n",
    "ds_pass1 = ds_pass1.where(ds_pass1['latitude'].compute()>region_info['lat_min'],drop=True)\n",
    "ds_pass1.time.attrs['_FillValue'] = np.nan\n",
    "\n",
    "cycle_number = np.nanmax(ds_pass1.cycle_number,axis=1) \n",
    "ds_pass1 = ds_pass1.drop_vars({'cycle_number'})\n",
    "ds_pass1['cycle_number'] = (['num_lines', ], cycle_number)\n",
    "\n",
    "pass_number = np.nanmax(ds_pass1.pass_number,axis=1) \n",
    "ds_pass1 = ds_pass1.drop_vars({'pass_number'})\n",
    "ds_pass1['pass_number'] = (['num_lines', ], pass_number)\n",
    "\n",
    "ds_pass1.to_netcdf(path_data+'_'+region_info['name']+'_v1.0.2.nc')\n",
    "\n",
    "del ds_pass1"
   ]
  },
  {
   "cell_type": "markdown",
   "id": "f2adb847",
   "metadata": {},
   "source": [
    "## Selecting and saving Antarctic Circumpolar region"
   ]
  },
  {
   "cell_type": "code",
   "execution_count": 39,
   "id": "0bffa739",
   "metadata": {},
   "outputs": [
    {
     "name": "stderr",
     "output_type": "stream",
     "text": [
      "<timed exec>:9: RuntimeWarning: All-NaN axis encountered\n",
      "<timed exec>:13: RuntimeWarning: All-NaN axis encountered\n"
     ]
    },
    {
     "name": "stdout",
     "output_type": "stream",
     "text": [
      "CPU times: user 1min 39s, sys: 3min 52s, total: 5min 32s\n",
      "Wall time: 11min 56s\n"
     ]
    }
   ],
   "source": [
    "%%time \n",
    "\n",
    "region_info = RegionInfo('ACC_info').region_info   # Region dictionary info from dict_regions_info.py\n",
    "\n",
    "ds_pass1 = ds_pass.where(ds_pass['longitude'].compute()<region_info['lon_max'],drop=True)\n",
    "ds_pass1 = ds_pass1.where(ds_pass1['longitude'].compute()>region_info['lon_min'],drop=True)\n",
    "ds_pass1 = ds_pass1.where(ds_pass1['latitude'].compute()<region_info['lat_max'],drop=True)\n",
    "ds_pass1 = ds_pass1.where(ds_pass1['latitude'].compute()>region_info['lat_min'],drop=True)\n",
    "ds_pass1.time.attrs['_FillValue'] = np.nan\n",
    "\n",
    "cycle_number = np.nanmax(ds_pass1.cycle_number,axis=1) \n",
    "ds_pass1 = ds_pass1.drop_vars({'cycle_number'})\n",
    "ds_pass1['cycle_number'] = (['num_lines', ], cycle_number)\n",
    "\n",
    "pass_number = np.nanmax(ds_pass1.pass_number,axis=1) \n",
    "ds_pass1 = ds_pass1.drop_vars({'pass_number'})\n",
    "ds_pass1['pass_number'] = (['num_lines', ], pass_number)\n",
    "\n",
    "ds_pass1.to_netcdf(path_data+'_'+region_info['name']+'_v1.0.2.nc')\n",
    "\n",
    "del ds_pass1"
   ]
  },
  {
   "cell_type": "markdown",
   "id": "34013930",
   "metadata": {},
   "source": [
    "## Selecting and saving Madagascar region"
   ]
  },
  {
   "cell_type": "code",
   "execution_count": 40,
   "id": "3a94230a",
   "metadata": {},
   "outputs": [
    {
     "name": "stdout",
     "output_type": "stream",
     "text": [
      "CPU times: user 1min 9s, sys: 2min 52s, total: 4min 2s\n",
      "Wall time: 7min 23s\n"
     ]
    }
   ],
   "source": [
    "%%time\n",
    " \n",
    "region_info = RegionInfo('Mada_info').region_info   # Region dictionary info from dict_regions_info.py\n",
    "\n",
    "ds_pass1 = ds_pass.where(ds_pass['longitude'].compute()<region_info['lon_max'],drop=True)\n",
    "ds_pass1 = ds_pass1.where(ds_pass1['longitude'].compute()>region_info['lon_min'],drop=True)\n",
    "ds_pass1 = ds_pass1.where(ds_pass1['latitude'].compute()<region_info['lat_max'],drop=True)\n",
    "ds_pass1 = ds_pass1.where(ds_pass1['latitude'].compute()>region_info['lat_min'],drop=True)\n",
    "ds_pass1.time.attrs['_FillValue'] = np.nan\n",
    "\n",
    "cycle_number = np.nanmax(ds_pass1.cycle_number,axis=1) \n",
    "ds_pass1 = ds_pass1.drop_vars({'cycle_number'})\n",
    "ds_pass1['cycle_number'] = (['num_lines', ], cycle_number)\n",
    "\n",
    "pass_number = np.nanmax(ds_pass1.pass_number,axis=1) \n",
    "ds_pass1 = ds_pass1.drop_vars({'pass_number'})\n",
    "ds_pass1['pass_number'] = (['num_lines', ], pass_number)\n",
    "\n",
    "ds_pass1.to_netcdf(path_data+'_'+region_info['name']+'_v1.0.2.nc')\n",
    "\n",
    "del ds_pass1"
   ]
  },
  {
   "cell_type": "markdown",
   "id": "4aac4336",
   "metadata": {},
   "source": [
    "## Selecting and saving Californian region"
   ]
  },
  {
   "cell_type": "code",
   "execution_count": 41,
   "id": "9c4ce72d",
   "metadata": {},
   "outputs": [
    {
     "name": "stdout",
     "output_type": "stream",
     "text": [
      "CPU times: user 33.2 s, sys: 1min 22s, total: 1min 55s\n",
      "Wall time: 3min 33s\n"
     ]
    }
   ],
   "source": [
    "%%time\n",
    "\n",
    "region_info = Cali_info\n",
    "\n",
    "ds_pass1 = ds_pass.where(ds_pass['longitude'].compute()<region_info['lon_max'],drop=True)\n",
    "ds_pass1 = ds_pass1.where(ds_pass1['longitude'].compute()>region_info['lon_min'],drop=True)\n",
    "ds_pass1 = ds_pass1.where(ds_pass1['latitude'].compute()<region_info['lat_max'],drop=True)\n",
    "ds_pass1 = ds_pass1.where(ds_pass1['latitude'].compute()>region_info['lat_min'],drop=True)\n",
    "ds_pass1.time.attrs['_FillValue'] = np.nan\n",
    "\n",
    "cycle_number = np.nanmax(ds_pass1.cycle_number,axis=1) \n",
    "ds_pass1 = ds_pass1.drop_vars({'cycle_number'})\n",
    "ds_pass1['cycle_number'] = (['num_lines', ], cycle_number)\n",
    "\n",
    "pass_number = np.nanmax(ds_pass1.pass_number,axis=1) \n",
    "ds_pass1 = ds_pass1.drop_vars({'pass_number'})\n",
    "ds_pass1['pass_number'] = (['num_lines', ], pass_number)\n",
    "\n",
    "ds_pass1.to_netcdf(path_data+'_'+region_info['name']+'_v1.0.2.nc')\n",
    "\n",
    "del ds_pass1"
   ]
  },
  {
   "cell_type": "code",
   "execution_count": null,
   "id": "ba92ac66",
   "metadata": {},
   "outputs": [],
   "source": []
  },
  {
   "cell_type": "code",
   "execution_count": null,
   "id": "b10a1f92",
   "metadata": {},
   "outputs": [],
   "source": []
  }
 ],
 "metadata": {
  "kernelspec": {
   "display_name": "env-dc-swot-filtering",
   "language": "python",
   "name": "env-dc-swot-filtering"
  },
  "language_info": {
   "codemirror_mode": {
    "name": "ipython",
    "version": 3
   },
   "file_extension": ".py",
   "mimetype": "text/x-python",
   "name": "python",
   "nbconvert_exporter": "python",
   "pygments_lexer": "ipython3",
   "version": "3.10.11"
  }
 },
 "nbformat": 4,
 "nbformat_minor": 5
}
