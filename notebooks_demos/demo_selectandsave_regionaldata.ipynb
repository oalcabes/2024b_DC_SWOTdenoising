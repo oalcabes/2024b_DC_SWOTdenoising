{
 "cells": [
  {
   "cell_type": "code",
   "execution_count": 1,
   "id": "e40f42a7",
   "metadata": {},
   "outputs": [],
   "source": [
    "import os\n",
    "import glob\n",
    "import sys\n",
    "sys.path.append('..')\n",
    "import numpy as np \n",
    "import xarray as xr \n",
    "import matplotlib.pyplot as plt\n",
    "from datetime import datetime"
   ]
  },
  {
   "cell_type": "code",
   "execution_count": 2,
   "id": "08020eb6",
   "metadata": {},
   "outputs": [],
   "source": [
    "# Data repository\n",
    "path_data = '../swot_data/swot_21j_share' \n",
    " \n",
    "\n",
    "# Gulf Stream region\n",
    "region = 'GS' # 'GS', 'Med' or 'Cir'\n",
    "\n",
    "if region == 'GS':\n",
    "    lon_min = 309                                         # domain min longitude\n",
    "    lon_max = 314                                         # domain max longitude\n",
    "    lat_min = 30.                                         # domain min latitude\n",
    "    lat_max = 42.                                         # domain max latitude \n",
    "\n",
    "if region == 'Med':\n",
    "    lon_min = 1                                           # domain min longitude\n",
    "    lon_max = 20                                          # domain max longitude\n",
    "    lat_min = 30.                                         # domain min latitude\n",
    "    lat_max = 45.                                         # domain max latitude \n",
    "\n",
    "if region == 'Cir':\n",
    "    lon_min = 0                                            # domain min longitude\n",
    "    lon_max = 0                                            # domain max longitude\n",
    "    lat_min = 0                                            # domain min latitude\n",
    "    lat_max = 0                                            # domain max latitude "
   ]
  },
  {
   "cell_type": "markdown",
   "id": "05b09131",
   "metadata": {},
   "source": [
    "## Reading SWOT data"
   ]
  },
  {
   "cell_type": "code",
   "execution_count": 3,
   "id": "1fdd15a7",
   "metadata": {},
   "outputs": [],
   "source": [
    "all_files = sorted(os.listdir(path_data))[1:]\n",
    "all_paths = [path_data + s for s in all_files]"
   ]
  },
  {
   "cell_type": "code",
   "execution_count": 4,
   "id": "48a17ab5",
   "metadata": {},
   "outputs": [],
   "source": [
    "ds_pass = xr.open_mfdataset('../swot_data/swot_21j_share/SWOT*',combine='nested',concat_dim='num_lines')"
   ]
  },
  {
   "cell_type": "markdown",
   "id": "b694d720",
   "metadata": {},
   "source": [
    "## Selecting region"
   ]
  },
  {
   "cell_type": "code",
   "execution_count": 5,
   "id": "1753f88f",
   "metadata": {},
   "outputs": [
    {
     "name": "stdout",
     "output_type": "stream",
     "text": [
      "CPU times: user 1min 37s, sys: 21.3 s, total: 1min 59s\n",
      "Wall time: 1min 39s\n"
     ]
    }
   ],
   "source": [
    "%%time\n",
    "ds_pass = ds_pass.where(ds_pass['longitude']<lon_max,drop=True)\n",
    "ds_pass = ds_pass.where(ds_pass['longitude']>lon_min,drop=True)\n",
    "ds_pass = ds_pass.where(ds_pass['latitude']<lat_max,drop=True)\n",
    "ds_pass = ds_pass.where(ds_pass['latitude']>lat_min,drop=True)"
   ]
  },
  {
   "cell_type": "markdown",
   "id": "3da6bb39",
   "metadata": {},
   "source": [
    "## Saving regional data"
   ]
  },
  {
   "cell_type": "code",
   "execution_count": 6,
   "id": "9e96fe9f",
   "metadata": {},
   "outputs": [],
   "source": [
    "ds_pass.to_netcdf('../swot_data/swot_21j_share_'+region+'.nc')"
   ]
  },
  {
   "cell_type": "code",
   "execution_count": null,
   "id": "74a89d3f",
   "metadata": {},
   "outputs": [],
   "source": []
  },
  {
   "cell_type": "code",
   "execution_count": null,
   "id": "9fac5f02",
   "metadata": {},
   "outputs": [],
   "source": []
  }
 ],
 "metadata": {
  "kernelspec": {
   "display_name": "env-dc-swot-filtering",
   "language": "python",
   "name": "env-dc-swot-filtering"
  },
  "language_info": {
   "codemirror_mode": {
    "name": "ipython",
    "version": 3
   },
   "file_extension": ".py",
   "mimetype": "text/x-python",
   "name": "python",
   "nbconvert_exporter": "python",
   "pygments_lexer": "ipython3",
   "version": "3.10.11"
  }
 },
 "nbformat": 4,
 "nbformat_minor": 5
}
