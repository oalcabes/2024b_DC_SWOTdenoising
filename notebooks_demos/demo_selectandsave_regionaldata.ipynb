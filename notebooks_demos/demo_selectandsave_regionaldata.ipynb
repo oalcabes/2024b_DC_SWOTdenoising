{
 "cells": [
  {
   "cell_type": "code",
   "execution_count": 1,
   "id": "32bc0f0e",
   "metadata": {},
   "outputs": [],
   "source": [
    "import os\n",
    "import glob\n",
    "import sys\n",
    "sys.path.append('..')\n",
    "import numpy as np \n",
    "import xarray as xr \n",
    "import matplotlib.pyplot as plt\n",
    "from datetime import datetime"
   ]
  },
  {
   "cell_type": "code",
   "execution_count": 2,
   "id": "e06a10af",
   "metadata": {},
   "outputs": [],
   "source": [
    "\n",
    "# Gulf Stream region\n",
    "region = 'GS' # 'GS', 'Med' or 'Cir'\n",
    "\n",
    "if region == 'GS':\n",
    "    lon_min = 309                                         # domain min longitude\n",
    "    lon_max = 314                                         # domain max longitude\n",
    "    lat_min = 30.                                         # domain min latitude\n",
    "    lat_max = 42.                                         # domain max latitude \n",
    "\n",
    "if region == 'Med':\n",
    "    lon_min = 1                                           # domain min longitude\n",
    "    lon_max = 20                                          # domain max longitude\n",
    "    lat_min = 30.                                         # domain min latitude\n",
    "    lat_max = 45.                                         # domain max latitude \n",
    "\n",
    "if region == 'Cir':\n",
    "    lon_min = 0                                            # domain min longitude\n",
    "    lon_max = 0                                            # domain max longitude\n",
    "    lat_min = 0                                            # domain min latitude\n",
    "    lat_max = 0                                            # domain max latitude "
   ]
  },
  {
   "cell_type": "markdown",
   "id": "6ac80064",
   "metadata": {},
   "source": [
    "# A. 21 day orbit"
   ]
  },
  {
   "cell_type": "markdown",
   "id": "5d3eda8f",
   "metadata": {},
   "source": [
    "## Reading SWOT data"
   ]
  },
  {
   "cell_type": "code",
   "execution_count": null,
   "id": "0e2212d8",
   "metadata": {},
   "outputs": [],
   "source": [
    "# Data repository\n",
    "path_data = '../swot_data/swot_21j_share' "
   ]
  },
  {
   "cell_type": "code",
   "execution_count": 3,
   "id": "3bffc4e0",
   "metadata": {},
   "outputs": [],
   "source": [
    "all_files = sorted(os.listdir(path_data))[1:]\n",
    "all_paths = [path_data + s for s in all_files]"
   ]
  },
  {
   "cell_type": "code",
   "execution_count": 4,
   "id": "a91884d8",
   "metadata": {},
   "outputs": [],
   "source": [
    "ds_pass = xr.open_mfdataset(path_data+'/SWOT*',combine='nested',concat_dim='num_lines')"
   ]
  },
  {
   "cell_type": "markdown",
   "id": "c5d0a194",
   "metadata": {},
   "source": [
    "## Selecting region"
   ]
  },
  {
   "cell_type": "code",
   "execution_count": 5,
   "id": "528c1383",
   "metadata": {},
   "outputs": [
    {
     "name": "stdout",
     "output_type": "stream",
     "text": [
      "CPU times: user 1min 37s, sys: 21.3 s, total: 1min 59s\n",
      "Wall time: 1min 39s\n"
     ]
    }
   ],
   "source": [
    "%%time\n",
    "ds_pass = ds_pass.where(ds_pass['longitude']<lon_max,drop=True)\n",
    "ds_pass = ds_pass.where(ds_pass['longitude']>lon_min,drop=True)\n",
    "ds_pass = ds_pass.where(ds_pass['latitude']<lat_max,drop=True)\n",
    "ds_pass = ds_pass.where(ds_pass['latitude']>lat_min,drop=True)"
   ]
  },
  {
   "cell_type": "markdown",
   "id": "cfac40ab",
   "metadata": {},
   "source": [
    "## Saving regional data"
   ]
  },
  {
   "cell_type": "code",
   "execution_count": 6,
   "id": "20beb655",
   "metadata": {},
   "outputs": [],
   "source": [
    "ds_pass.to_netcdf(path_data+'_'+region+'.nc')"
   ]
  },
  {
   "cell_type": "markdown",
   "id": "728bbb99",
   "metadata": {},
   "source": [
    "# B. 1 day orbit"
   ]
  },
  {
   "cell_type": "markdown",
   "id": "ba668ab9",
   "metadata": {},
   "source": [
    "## Reading 1 day SWOT data"
   ]
  },
  {
   "cell_type": "code",
   "execution_count": 7,
   "id": "f6772121",
   "metadata": {},
   "outputs": [],
   "source": [
    "# Data repository\n",
    "path_data = '../swot_data/swot_1j_share' "
   ]
  },
  {
   "cell_type": "code",
   "execution_count": 8,
   "id": "0694e791",
   "metadata": {},
   "outputs": [],
   "source": [
    "all_files = sorted(os.listdir(path_data))[1:]\n",
    "all_paths = [path_data + s for s in all_files]"
   ]
  },
  {
   "cell_type": "code",
   "execution_count": 10,
   "id": "2eb41ab1",
   "metadata": {},
   "outputs": [],
   "source": [
    "ds_pass = xr.open_mfdataset(path_data+'/SWOT*',combine='nested',concat_dim='num_lines')"
   ]
  },
  {
   "cell_type": "markdown",
   "id": "a31cd067",
   "metadata": {},
   "source": [
    "## Selecting region"
   ]
  },
  {
   "cell_type": "code",
   "execution_count": 11,
   "id": "27e6af37",
   "metadata": {},
   "outputs": [
    {
     "name": "stdout",
     "output_type": "stream",
     "text": [
      "CPU times: user 1min 41s, sys: 22.7 s, total: 2min 4s\n",
      "Wall time: 1min 43s\n"
     ]
    }
   ],
   "source": [
    "%%time\n",
    "ds_pass = ds_pass.where(ds_pass['longitude']<lon_max,drop=True)\n",
    "ds_pass = ds_pass.where(ds_pass['longitude']>lon_min,drop=True)\n",
    "ds_pass = ds_pass.where(ds_pass['latitude']<lat_max,drop=True)\n",
    "ds_pass = ds_pass.where(ds_pass['latitude']>lat_min,drop=True)"
   ]
  },
  {
   "cell_type": "markdown",
   "id": "1dbabcaa",
   "metadata": {},
   "source": [
    "## Saving regional data"
   ]
  },
  {
   "cell_type": "code",
   "execution_count": 12,
   "id": "6a376eee",
   "metadata": {},
   "outputs": [],
   "source": [
    "ds_pass.to_netcdf(path_data+'_'+region+'.nc')"
   ]
  },
  {
   "cell_type": "code",
   "execution_count": null,
   "id": "d7e5d868",
   "metadata": {},
   "outputs": [],
   "source": []
  }
 ],
 "metadata": {
  "kernelspec": {
   "display_name": "env-dc-swot-filtering",
   "language": "python",
   "name": "env-dc-swot-filtering"
  },
  "language_info": {
   "codemirror_mode": {
    "name": "ipython",
    "version": 3
   },
   "file_extension": ".py",
   "mimetype": "text/x-python",
   "name": "python",
   "nbconvert_exporter": "python",
   "pygments_lexer": "ipython3",
   "version": "3.10.11"
  }
 },
 "nbformat": 4,
 "nbformat_minor": 5
}
