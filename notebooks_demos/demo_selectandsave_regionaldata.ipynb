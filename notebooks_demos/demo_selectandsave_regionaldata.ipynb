{
 "cells": [
  {
   "cell_type": "code",
   "execution_count": 13,
   "id": "87337161",
   "metadata": {},
   "outputs": [],
   "source": [
    "import os\n",
    "import glob\n",
    "import sys\n",
    "sys.path.append('..')\n",
    "import numpy as np \n",
    "import xarray as xr \n",
    "import matplotlib.pyplot as plt\n",
    "from datetime import datetime"
   ]
  },
  {
   "cell_type": "code",
   "execution_count": 54,
   "id": "20a7f236",
   "metadata": {},
   "outputs": [],
   "source": [
    "GS_info = {\n",
    "    'name' : 'GS',                                # region name\n",
    "    'lon_min' : 309.,                            # domain min longitude\n",
    "    'lon_max' : 314.,                            # domain max longitude\n",
    "    'lat_min' : 30.,                             # domain min latitude\n",
    "    'lat_max' : 42.                              # domain max latitude\n",
    "}\n",
    "\n",
    "Med_info = {\n",
    "    'name' : 'Med',                               # region name\n",
    "    'lon_min' : 1.,                              # domain min longitude\n",
    "    'lon_max' : 20.,                             # domain max longitude\n",
    "    'lat_min' : 30.,                             # domain min latitude\n",
    "    'lat_max' : 45.                              # domain max latitude\n",
    "}\n",
    "\n",
    "\n",
    "ACC_info = {\n",
    "    'name' : 'ACC',                              # region name\n",
    "    'lon_min' : 1.,                             # domain min longitude\n",
    "    'lon_max' : 2.,                             # domain max longitude\n",
    "    'lat_min' : 1.,                             # domain min latitude\n",
    "    'lat_max' : 2.                              # domain max latitude\n",
    "}"
   ]
  },
  {
   "cell_type": "markdown",
   "id": "38f899b9",
   "metadata": {},
   "source": [
    "# A. 21 day orbit"
   ]
  },
  {
   "cell_type": "markdown",
   "id": "af3a1c85",
   "metadata": {},
   "source": [
    "## Reading 21 day SWOT data"
   ]
  },
  {
   "cell_type": "code",
   "execution_count": 14,
   "id": "c1887a5c",
   "metadata": {},
   "outputs": [],
   "source": [
    "# Data repository\n",
    "path_data = '../swot_data/swot_21j_share' \n",
    "\n",
    "ds_pass = xr.open_mfdataset(path_data+'/SWOT*',combine='nested',concat_dim='num_lines')"
   ]
  },
  {
   "cell_type": "markdown",
   "id": "bdcf5b7f",
   "metadata": {},
   "source": [
    "## Selecting and saving Gulf Stream region"
   ]
  },
  {
   "cell_type": "code",
   "execution_count": 5,
   "id": "869de9e7",
   "metadata": {},
   "outputs": [
    {
     "name": "stdout",
     "output_type": "stream",
     "text": [
      "CPU times: user 1min 37s, sys: 21.3 s, total: 1min 59s\n",
      "Wall time: 1min 39s\n"
     ]
    }
   ],
   "source": [
    "%%time\n",
    "\n",
    "region_info = GS_info\n",
    "\n",
    "ds_pass1 = ds_pass.where(ds_pass['longitude']<region_info['lon_max'],drop=True)\n",
    "ds_pass1 = ds_pass1.where(ds_pass1['longitude']>region_info['lon_min'],drop=True)\n",
    "ds_pass1 = ds_pass1.where(ds_pass1['latitude']<region_info['lat_max'],drop=True)\n",
    "ds_pass1 = ds_pass1.where(ds_pass1['latitude']>region_info['lat_min'],drop=True)\n",
    "\n",
    "ds_pass1.to_netcdf(path_data+'_'+region_info['name']+'.nc')\n",
    "\n",
    "del ds_pass1"
   ]
  },
  {
   "cell_type": "markdown",
   "id": "54224269",
   "metadata": {},
   "source": [
    "## Selecting and saving Mediterranean region"
   ]
  },
  {
   "cell_type": "code",
   "execution_count": 6,
   "id": "0ac1591a",
   "metadata": {},
   "outputs": [],
   "source": [
    "%%time\n",
    "\n",
    "region_info = Med_info\n",
    "\n",
    "ds_pass1 = ds_pass.where(ds_pass['longitude']<region_info['lon_max'],drop=True)\n",
    "ds_pass1 = ds_pass1.where(ds_pass1['longitude']>region_info['lon_min'],drop=True)\n",
    "ds_pass1 = ds_pass1.where(ds_pass1['latitude']<region_info['lat_max'],drop=True)\n",
    "ds_pass1 = ds_pass1.where(ds_pass1['latitude']>region_info['lat_min'],drop=True)\n",
    "\n",
    "ds_pass1.to_netcdf(path_data+'_'+region_info['name']+'.nc')\n",
    "\n",
    "del ds_pass1"
   ]
  },
  {
   "cell_type": "markdown",
   "id": "089a4b5b",
   "metadata": {},
   "source": [
    "## Selecting and saving Antarctic Circumpolar region"
   ]
  },
  {
   "cell_type": "code",
   "execution_count": 5,
   "id": "85a25e9f",
   "metadata": {},
   "outputs": [
    {
     "name": "stdout",
     "output_type": "stream",
     "text": [
      "CPU times: user 1min 37s, sys: 21.3 s, total: 1min 59s\n",
      "Wall time: 1min 39s\n"
     ]
    }
   ],
   "source": [
    "%%time\n",
    "\n",
    "region_info = ACC_info\n",
    "\n",
    "ds_pass1 = ds_pass.where(ds_pass['longitude']<region_info['lon_max'],drop=True)\n",
    "ds_pass1 = ds_pass1.where(ds_pass1['longitude']>region_info['lon_min'],drop=True)\n",
    "ds_pass1 = ds_pass1.where(ds_pass1['latitude']<region_info['lat_max'],drop=True)\n",
    "ds_pass1 = ds_pass1.where(ds_pass1['latitude']>region_info['lat_min'],drop=True)\n",
    "\n",
    "ds_pass1.to_netcdf(path_data+'_'+region_info['name']+'.nc')\n",
    "\n",
    "del ds_pass1"
   ]
  },
  {
   "cell_type": "markdown",
   "id": "0f616f3f",
   "metadata": {},
   "source": [
    "# B. 1 day orbit"
   ]
  },
  {
   "cell_type": "markdown",
   "id": "0b6fd69a",
   "metadata": {},
   "source": [
    "## Reading 1 day SWOT data"
   ]
  },
  {
   "cell_type": "code",
   "execution_count": 71,
   "id": "4e897c32",
   "metadata": {},
   "outputs": [],
   "source": [
    "# Data repository\n",
    "path_data = '../swot_data/swot_1j_share' \n",
    "\n",
    "ds_pass = xr.open_mfdataset(path_data+'/SWOT*',combine='nested',concat_dim='num_lines')"
   ]
  },
  {
   "cell_type": "markdown",
   "id": "80802a73",
   "metadata": {},
   "source": [
    "## Selecting and saving Gulf Stream region"
   ]
  },
  {
   "cell_type": "code",
   "execution_count": 11,
   "id": "f6a69a7b",
   "metadata": {},
   "outputs": [
    {
     "name": "stdout",
     "output_type": "stream",
     "text": [
      "CPU times: user 1min 41s, sys: 22.7 s, total: 2min 4s\n",
      "Wall time: 1min 43s\n"
     ]
    }
   ],
   "source": [
    "%%time\n",
    "\n",
    "region_info = GS_info\n",
    "\n",
    "ds_pass1 = ds_pass.where(ds_pass['longitude']<region_info['lon_max'],drop=True)\n",
    "ds_pass1 = ds_pass1.where(ds_pass1['longitude']>region_info['lon_min'],drop=True)\n",
    "ds_pass1 = ds_pass1.where(ds_pass1['latitude']<region_info['lat_max'],drop=True)\n",
    "ds_pass1 = ds_pass1.where(ds_pass1['latitude']>region_info['lat_min'],drop=True)\n",
    "\n",
    "ds_pass1.to_netcdf(path_data+'_'+region_info['name']+'.nc')\n",
    "\n",
    "del ds_pass1"
   ]
  },
  {
   "cell_type": "markdown",
   "id": "eebc8a15",
   "metadata": {},
   "source": [
    "## Selecting and saving Mediterranean region"
   ]
  },
  {
   "cell_type": "code",
   "execution_count": null,
   "id": "c6125aa9",
   "metadata": {},
   "outputs": [],
   "source": [
    "%%time\n",
    "\n",
    "region_info = Med_info\n",
    "\n",
    "ds_pass1 = ds_pass.where(ds_pass['longitude']<region_info['lon_max'],drop=True)\n",
    "ds_pass1 = ds_pass1.where(ds_pass1['longitude']>region_info['lon_min'],drop=True)\n",
    "ds_pass1 = ds_pass1.where(ds_pass1['latitude']<region_info['lat_max'],drop=True)\n",
    "ds_pass1 = ds_pass1.where(ds_pass1['latitude']>region_info['lat_min'],drop=True)\n",
    "\n",
    "ds_pass1.to_netcdf(path_data+'_'+region_info['name']+'.nc')\n",
    "\n",
    "del ds_pass1"
   ]
  },
  {
   "cell_type": "markdown",
   "id": "227f8ad6",
   "metadata": {},
   "source": [
    "## Selecting and saving Antarctic Circumpolar region"
   ]
  },
  {
   "cell_type": "code",
   "execution_count": null,
   "id": "38fbd020",
   "metadata": {},
   "outputs": [],
   "source": [
    "%%time\n",
    "\n",
    "region_info = ACC_info\n",
    "\n",
    "ds_pass1 = ds_pass.where(ds_pass['longitude']<region_info['lon_max'],drop=True)\n",
    "ds_pass1 = ds_pass1.where(ds_pass1['longitude']>region_info['lon_min'],drop=True)\n",
    "ds_pass1 = ds_pass1.where(ds_pass1['latitude']<region_info['lat_max'],drop=True)\n",
    "ds_pass1 = ds_pass1.where(ds_pass1['latitude']>region_info['lat_min'],drop=True)\n",
    "\n",
    "ds_pass1.to_netcdf(path_data+'_'+region_info['name']+'.nc')\n",
    "\n",
    "del ds_pass1"
   ]
  },
  {
   "cell_type": "code",
   "execution_count": null,
   "id": "b2190313",
   "metadata": {},
   "outputs": [],
   "source": []
  },
  {
   "cell_type": "code",
   "execution_count": null,
   "id": "f8f7d30c",
   "metadata": {},
   "outputs": [],
   "source": []
  }
 ],
 "metadata": {
  "kernelspec": {
   "display_name": "env-dc-swot-filtering",
   "language": "python",
   "name": "env-dc-swot-filtering"
  },
  "language_info": {
   "codemirror_mode": {
    "name": "ipython",
    "version": 3
   },
   "file_extension": ".py",
   "mimetype": "text/x-python",
   "name": "python",
   "nbconvert_exporter": "python",
   "pygments_lexer": "ipython3",
   "version": "3.10.11"
  }
 },
 "nbformat": 4,
 "nbformat_minor": 5
}
