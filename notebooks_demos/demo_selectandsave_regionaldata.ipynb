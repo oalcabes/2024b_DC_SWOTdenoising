{
 "cells": [
  {
   "cell_type": "markdown",
   "id": "565a0e5c",
   "metadata": {},
   "source": [
    "![header](../figures/logos_partenaires._cmems_se.jpg)"
   ]
  },
  {
   "cell_type": "markdown",
   "id": "c21ce1c6",
   "metadata": {},
   "source": [
    "\n",
    "<div class=\"alert alert-block alert-success\">\n",
    "<h1><center>Demo: Select and save regional data </center></h1>\n",
    "<h2><center>Save local netcdf from downloaded netcdf</center></h2></div>\n",
    "\n",
    "***\n",
    "**Authors:**  Datlas, IGE, IMEDEA & CLS <br>\n",
    "**Copyright:** 2022 Datlas, IGE, IMEDEA & CLS <br>\n",
    "**License:** MIT"
   ]
  },
  {
   "cell_type": "code",
   "execution_count": 1,
   "id": "9c826776",
   "metadata": {},
   "outputs": [],
   "source": [
    "import os\n",
    "import glob\n",
    "import sys\n",
    "sys.path.append('..')\n",
    "import numpy as np \n",
    "import xarray as xr \n",
    "import matplotlib.pyplot as plt\n",
    "from datetime import datetime"
   ]
  },
  {
   "cell_type": "code",
   "execution_count": 2,
   "id": "496aa29a",
   "metadata": {},
   "outputs": [],
   "source": [
    "GS_info = {\n",
    "    'name' : 'GS',                                # region name\n",
    "    'lon_min' : -55.,                            # domain min longitude\n",
    "    'lon_max' : -45.,                            # domain max longitude\n",
    "    'lat_min' : 30.,                             # domain min latitude\n",
    "    'lat_max' : 40.                              # domain max latitude\n",
    "}\n",
    "\n",
    "Med_info = {\n",
    "    'name' : 'Med',                               # region name\n",
    "    'lon_min' : -2.,                              # domain min longitude\n",
    "    'lon_max' : 8.,                             # domain max longitude\n",
    "    'lat_min' : 36.,                             # domain min latitude\n",
    "    'lat_max' : 44.                              # domain max latitude\n",
    "}\n",
    "\n",
    "\n",
    "ACC_info = {\n",
    "    'name' : 'ACC',                              # region name\n",
    "    'lon_min' : 152.,                             # domain min longitude\n",
    "    'lon_max' : 162.,                             # domain max longitude\n",
    "    'lat_min' : -64.,                             # domain min latitude\n",
    "    'lat_max' : -54.                              # domain max latitude\n",
    "}\n",
    "\n",
    "Mada_info = {\n",
    "    'name' : 'Mada',                               # region name\n",
    "    'lon_min' : 44.,                              # domain min longitude\n",
    "    'lon_max' : 54.,                             # domain max longitude\n",
    "    'lat_min' : -12.,                             # domain min latitude\n",
    "    'lat_max' : -2.                              # domain max latitude\n",
    "}\n",
    "\n",
    "\n",
    "Cali_info = {\n",
    "    'name' : 'Cali',                              # region name\n",
    "    'lon_min' : -130.,                             # domain min longitude\n",
    "    'lon_max' : -120.,                             # domain max longitude\n",
    "    'lat_min' : 30.,                             # domain min latitude\n",
    "    'lat_max' : 40.                              # domain max latitude\n",
    "}"
   ]
  },
  {
   "cell_type": "markdown",
   "id": "3e162772",
   "metadata": {},
   "source": [
    "# A. 21 day orbit"
   ]
  },
  {
   "cell_type": "markdown",
   "id": "c7efbeee",
   "metadata": {},
   "source": [
    "## Reading 21 day SWOT data"
   ]
  },
  {
   "cell_type": "code",
   "execution_count": 3,
   "id": "b8dd1fce",
   "metadata": {},
   "outputs": [],
   "source": [
    "# Data repository\n",
    "path_data = '../swot_data/swot_21j_share' \n",
    "\n",
    "ds_pass = xr.open_mfdataset(path_data+'/SWOT*',combine='nested',concat_dim='num_lines')\n",
    "\n",
    "# Need to transform 0,360 longitude into -180,180\n",
    "ds_pass.coords['longitude'] = (ds_pass.coords['longitude'] + 180) % 360 - 180 "
   ]
  },
  {
   "cell_type": "markdown",
   "id": "6386cf8f",
   "metadata": {},
   "source": [
    "## Selecting and saving Gulf Stream region"
   ]
  },
  {
   "cell_type": "code",
   "execution_count": 4,
   "id": "670c7123",
   "metadata": {},
   "outputs": [
    {
     "name": "stdout",
     "output_type": "stream",
     "text": [
      "CPU times: user 3min 55s, sys: 31.5 s, total: 4min 27s\n",
      "Wall time: 2min 21s\n"
     ]
    }
   ],
   "source": [
    "%%time\n",
    "\n",
    "region_info = GS_info\n",
    "\n",
    "ds_pass1 = ds_pass.where(ds_pass['longitude']<region_info['lon_max'],drop=True)\n",
    "ds_pass1 = ds_pass1.where(ds_pass1['longitude']>region_info['lon_min'],drop=True)\n",
    "ds_pass1 = ds_pass1.where(ds_pass1['latitude']<region_info['lat_max'],drop=True)\n",
    "ds_pass1 = ds_pass1.where(ds_pass1['latitude']>region_info['lat_min'],drop=True)\n",
    "\n",
    "ds_pass1.to_netcdf(path_data+'_'+region_info['name']+'.nc')\n",
    "\n",
    "del ds_pass1"
   ]
  },
  {
   "cell_type": "markdown",
   "id": "d200e012",
   "metadata": {},
   "source": [
    "## Selecting and saving Mediterranean region"
   ]
  },
  {
   "cell_type": "code",
   "execution_count": 5,
   "id": "12585fba",
   "metadata": {},
   "outputs": [
    {
     "name": "stdout",
     "output_type": "stream",
     "text": [
      "CPU times: user 3min 59s, sys: 30.9 s, total: 4min 30s\n",
      "Wall time: 2min 18s\n"
     ]
    }
   ],
   "source": [
    "%%time\n",
    "\n",
    "region_info = Med_info\n",
    "\n",
    "ds_pass1 = ds_pass.where(ds_pass['longitude']<region_info['lon_max'],drop=True)\n",
    "ds_pass1 = ds_pass1.where(ds_pass1['longitude']>region_info['lon_min'],drop=True)\n",
    "ds_pass1 = ds_pass1.where(ds_pass1['latitude']<region_info['lat_max'],drop=True)\n",
    "ds_pass1 = ds_pass1.where(ds_pass1['latitude']>region_info['lat_min'],drop=True)\n",
    "\n",
    "ds_pass1.to_netcdf(path_data+'_'+region_info['name']+'.nc')\n",
    "\n",
    "del ds_pass1"
   ]
  },
  {
   "cell_type": "markdown",
   "id": "b09b3542",
   "metadata": {},
   "source": [
    "## Selecting and saving Antarctic Circumpolar region"
   ]
  },
  {
   "cell_type": "code",
   "execution_count": 6,
   "id": "25d96f90",
   "metadata": {},
   "outputs": [
    {
     "name": "stdout",
     "output_type": "stream",
     "text": [
      "CPU times: user 3min 33s, sys: 24.2 s, total: 3min 57s\n",
      "Wall time: 1min 46s\n"
     ]
    }
   ],
   "source": [
    "%%time\n",
    "\n",
    "region_info = ACC_info\n",
    "\n",
    "ds_pass1 = ds_pass.where(ds_pass['longitude']<region_info['lon_max'],drop=True)\n",
    "ds_pass1 = ds_pass1.where(ds_pass1['longitude']>region_info['lon_min'],drop=True)\n",
    "ds_pass1 = ds_pass1.where(ds_pass1['latitude']<region_info['lat_max'],drop=True)\n",
    "ds_pass1 = ds_pass1.where(ds_pass1['latitude']>region_info['lat_min'],drop=True)\n",
    "\n",
    "ds_pass1.to_netcdf(path_data+'_'+region_info['name']+'.nc')\n",
    "\n",
    "del ds_pass1"
   ]
  },
  {
   "cell_type": "markdown",
   "id": "bc8ecad0",
   "metadata": {},
   "source": [
    "## Selecting and saving Madagascar region"
   ]
  },
  {
   "cell_type": "code",
   "execution_count": 7,
   "id": "206454e2",
   "metadata": {},
   "outputs": [
    {
     "name": "stdout",
     "output_type": "stream",
     "text": [
      "CPU times: user 3min 52s, sys: 29.3 s, total: 4min 21s\n",
      "Wall time: 2min 9s\n"
     ]
    }
   ],
   "source": [
    "%%time\n",
    "\n",
    "region_info = Mada_info\n",
    "\n",
    "ds_pass1 = ds_pass.where(ds_pass['longitude']<region_info['lon_max'],drop=True)\n",
    "ds_pass1 = ds_pass1.where(ds_pass1['longitude']>region_info['lon_min'],drop=True)\n",
    "ds_pass1 = ds_pass1.where(ds_pass1['latitude']<region_info['lat_max'],drop=True)\n",
    "ds_pass1 = ds_pass1.where(ds_pass1['latitude']>region_info['lat_min'],drop=True)\n",
    "\n",
    "ds_pass1.to_netcdf(path_data+'_'+region_info['name']+'.nc')\n",
    "\n",
    "del ds_pass1"
   ]
  },
  {
   "cell_type": "markdown",
   "id": "5619df8e",
   "metadata": {},
   "source": [
    "## Selecting and saving Californian region"
   ]
  },
  {
   "cell_type": "code",
   "execution_count": 8,
   "id": "6f4622f4",
   "metadata": {},
   "outputs": [
    {
     "name": "stdout",
     "output_type": "stream",
     "text": [
      "CPU times: user 3min 1s, sys: 23 s, total: 3min 23s\n",
      "Wall time: 1min 33s\n"
     ]
    }
   ],
   "source": [
    "%%time\n",
    "\n",
    "region_info = Cali_info\n",
    "\n",
    "ds_pass1 = ds_pass.where(ds_pass['longitude']<region_info['lon_max'],drop=True)\n",
    "ds_pass1 = ds_pass1.where(ds_pass1['longitude']>region_info['lon_min'],drop=True)\n",
    "ds_pass1 = ds_pass1.where(ds_pass1['latitude']<region_info['lat_max'],drop=True)\n",
    "ds_pass1 = ds_pass1.where(ds_pass1['latitude']>region_info['lat_min'],drop=True)\n",
    "\n",
    "ds_pass1.to_netcdf(path_data+'_'+region_info['name']+'.nc')\n",
    "\n",
    "del ds_pass1"
   ]
  },
  {
   "cell_type": "markdown",
   "id": "89d84ea7",
   "metadata": {},
   "source": [
    "# B. 1 day orbit"
   ]
  },
  {
   "cell_type": "markdown",
   "id": "acc683cd",
   "metadata": {},
   "source": [
    "## Reading 1 day SWOT data"
   ]
  },
  {
   "cell_type": "code",
   "execution_count": 9,
   "id": "8571cd39",
   "metadata": {},
   "outputs": [],
   "source": [
    "# Data repository\n",
    "path_data = '../swot_data/swot_1j_share' \n",
    "\n",
    "ds_pass = xr.open_mfdataset(path_data+'/SWOT*',combine='nested',concat_dim='num_lines')\n",
    "\n",
    "\n",
    "# Need to transform 0,360 longitude into -180,180\n",
    "ds_pass.coords['longitude'] = (ds_pass.coords['longitude'] + 180) % 360 - 180 "
   ]
  },
  {
   "cell_type": "markdown",
   "id": "fec49b14",
   "metadata": {},
   "source": [
    "## Selecting and saving Gulf Stream region"
   ]
  },
  {
   "cell_type": "code",
   "execution_count": 10,
   "id": "e9820dca",
   "metadata": {},
   "outputs": [
    {
     "name": "stdout",
     "output_type": "stream",
     "text": [
      "CPU times: user 4min 21s, sys: 36.4 s, total: 4min 58s\n",
      "Wall time: 3min 6s\n"
     ]
    }
   ],
   "source": [
    "%%time\n",
    "\n",
    "region_info = GS_info\n",
    "\n",
    "ds_pass1 = ds_pass.where(ds_pass['longitude']<region_info['lon_max'],drop=True)\n",
    "ds_pass1 = ds_pass1.where(ds_pass1['longitude']>region_info['lon_min'],drop=True)\n",
    "ds_pass1 = ds_pass1.where(ds_pass1['latitude']<region_info['lat_max'],drop=True)\n",
    "ds_pass1 = ds_pass1.where(ds_pass1['latitude']>region_info['lat_min'],drop=True)\n",
    "\n",
    "ds_pass1.to_netcdf(path_data+'_'+region_info['name']+'.nc')\n",
    "\n",
    "del ds_pass1"
   ]
  },
  {
   "cell_type": "markdown",
   "id": "e4e1cc7c",
   "metadata": {},
   "source": [
    "## Selecting and saving Mediterranean region"
   ]
  },
  {
   "cell_type": "code",
   "execution_count": 11,
   "id": "4b446d47",
   "metadata": {},
   "outputs": [
    {
     "name": "stdout",
     "output_type": "stream",
     "text": [
      "CPU times: user 5min 11s, sys: 43.7 s, total: 5min 55s\n",
      "Wall time: 3min 47s\n"
     ]
    }
   ],
   "source": [
    "%%time\n",
    "\n",
    "region_info = Med_info\n",
    "\n",
    "ds_pass1 = ds_pass.where(ds_pass['longitude']<region_info['lon_max'],drop=True)\n",
    "ds_pass1 = ds_pass1.where(ds_pass1['longitude']>region_info['lon_min'],drop=True)\n",
    "ds_pass1 = ds_pass1.where(ds_pass1['latitude']<region_info['lat_max'],drop=True)\n",
    "ds_pass1 = ds_pass1.where(ds_pass1['latitude']>region_info['lat_min'],drop=True)\n",
    "\n",
    "ds_pass1.to_netcdf(path_data+'_'+region_info['name']+'.nc')\n",
    "\n",
    "del ds_pass1"
   ]
  },
  {
   "cell_type": "markdown",
   "id": "832c19af",
   "metadata": {},
   "source": [
    "## Selecting and saving Antarctic Circumpolar region"
   ]
  },
  {
   "cell_type": "code",
   "execution_count": 12,
   "id": "bf033ce2",
   "metadata": {},
   "outputs": [
    {
     "name": "stdout",
     "output_type": "stream",
     "text": [
      "CPU times: user 4min 8s, sys: 31.1 s, total: 4min 39s\n",
      "Wall time: 2min 23s\n"
     ]
    }
   ],
   "source": [
    "%%time\n",
    "\n",
    "region_info = ACC_info\n",
    "\n",
    "ds_pass1 = ds_pass.where(ds_pass['longitude']<region_info['lon_max'],drop=True)\n",
    "ds_pass1 = ds_pass1.where(ds_pass1['longitude']>region_info['lon_min'],drop=True)\n",
    "ds_pass1 = ds_pass1.where(ds_pass1['latitude']<region_info['lat_max'],drop=True)\n",
    "ds_pass1 = ds_pass1.where(ds_pass1['latitude']>region_info['lat_min'],drop=True)\n",
    "\n",
    "ds_pass1.to_netcdf(path_data+'_'+region_info['name']+'.nc')\n",
    "\n",
    "del ds_pass1"
   ]
  },
  {
   "cell_type": "markdown",
   "id": "6b92700f",
   "metadata": {},
   "source": [
    "## Selecting and saving Madagascar region"
   ]
  },
  {
   "cell_type": "code",
   "execution_count": 13,
   "id": "08383f87",
   "metadata": {},
   "outputs": [
    {
     "name": "stdout",
     "output_type": "stream",
     "text": [
      "CPU times: user 4min 10s, sys: 33.3 s, total: 4min 44s\n",
      "Wall time: 2min 27s\n"
     ]
    }
   ],
   "source": [
    "%%time\n",
    "\n",
    "region_info = Mada_info\n",
    "\n",
    "ds_pass1 = ds_pass.where(ds_pass['longitude']<region_info['lon_max'],drop=True)\n",
    "ds_pass1 = ds_pass1.where(ds_pass1['longitude']>region_info['lon_min'],drop=True)\n",
    "ds_pass1 = ds_pass1.where(ds_pass1['latitude']<region_info['lat_max'],drop=True)\n",
    "ds_pass1 = ds_pass1.where(ds_pass1['latitude']>region_info['lat_min'],drop=True)\n",
    "\n",
    "ds_pass1.to_netcdf(path_data+'_'+region_info['name']+'.nc')\n",
    "\n",
    "del ds_pass1"
   ]
  },
  {
   "cell_type": "markdown",
   "id": "cd21b99d",
   "metadata": {},
   "source": [
    "## Selecting and saving Californian region"
   ]
  },
  {
   "cell_type": "code",
   "execution_count": 14,
   "id": "c235dc23",
   "metadata": {},
   "outputs": [
    {
     "name": "stdout",
     "output_type": "stream",
     "text": [
      "CPU times: user 3min 20s, sys: 26.6 s, total: 3min 46s\n",
      "Wall time: 1min 46s\n"
     ]
    }
   ],
   "source": [
    "%%time\n",
    "\n",
    "region_info = Cali_info\n",
    "\n",
    "ds_pass1 = ds_pass.where(ds_pass['longitude']<region_info['lon_max'],drop=True)\n",
    "ds_pass1 = ds_pass1.where(ds_pass1['longitude']>region_info['lon_min'],drop=True)\n",
    "ds_pass1 = ds_pass1.where(ds_pass1['latitude']<region_info['lat_max'],drop=True)\n",
    "ds_pass1 = ds_pass1.where(ds_pass1['latitude']>region_info['lat_min'],drop=True)\n",
    "\n",
    "ds_pass1.to_netcdf(path_data+'_'+region_info['name']+'.nc')\n",
    "\n",
    "del ds_pass1"
   ]
  },
  {
   "cell_type": "code",
   "execution_count": null,
   "id": "4160d346",
   "metadata": {},
   "outputs": [],
   "source": []
  },
  {
   "cell_type": "code",
   "execution_count": null,
   "id": "fc36a97f",
   "metadata": {},
   "outputs": [],
   "source": []
  }
 ],
 "metadata": {
  "kernelspec": {
   "display_name": "env-dc-swot-filtering",
   "language": "python",
   "name": "env-dc-swot-filtering"
  },
  "language_info": {
   "codemirror_mode": {
    "name": "ipython",
    "version": 3
   },
   "file_extension": ".py",
   "mimetype": "text/x-python",
   "name": "python",
   "nbconvert_exporter": "python",
   "pygments_lexer": "ipython3",
   "version": "3.10.11"
  }
 },
 "nbformat": 4,
 "nbformat_minor": 5
}
